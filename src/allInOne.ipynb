{
 "cells": [
  {
   "cell_type": "code",
   "execution_count": 2,
   "metadata": {
    "execution": {
     "iopub.execute_input": "2024-12-22T16:19:23.823806Z",
     "iopub.status.busy": "2024-12-22T16:19:23.823481Z",
     "iopub.status.idle": "2024-12-22T16:19:24.395206Z",
     "shell.execute_reply": "2024-12-22T16:19:24.394048Z",
     "shell.execute_reply.started": "2024-12-22T16:19:23.823777Z"
    },
    "trusted": true
   },
   "outputs": [],
   "source": [
    "import pandas as pd\n",
    "import matplotlib.pyplot as plt\n",
    "import seaborn as sns\n",
    "import numpy as np"
   ]
  },
  {
   "cell_type": "code",
   "execution_count": 3,
   "metadata": {
    "execution": {
     "iopub.execute_input": "2024-12-22T16:19:24.396897Z",
     "iopub.status.busy": "2024-12-22T16:19:24.396377Z",
     "iopub.status.idle": "2024-12-22T16:19:31.459275Z",
     "shell.execute_reply": "2024-12-22T16:19:31.457979Z",
     "shell.execute_reply.started": "2024-12-22T16:19:24.396840Z"
    },
    "trusted": true
   },
   "outputs": [
    {
     "name": "stderr",
     "output_type": "stream",
     "text": [
      "c:\\Users\\Vlad_PC_2022\\AppData\\Local\\Programs\\Python\\Python312\\Lib\\site-packages\\tqdm\\auto.py:21: TqdmWarning: IProgress not found. Please update jupyter and ipywidgets. See https://ipywidgets.readthedocs.io/en/stable/user_install.html\n",
      "  from .autonotebook import tqdm as notebook_tqdm\n"
     ]
    },
    {
     "name": "stdout",
     "output_type": "stream",
     "text": [
      "WARNING:tensorflow:From c:\\Users\\Vlad_PC_2022\\AppData\\Local\\Programs\\Python\\Python312\\Lib\\site-packages\\tf_keras\\src\\losses.py:2976: The name tf.losses.sparse_softmax_cross_entropy is deprecated. Please use tf.compat.v1.losses.sparse_softmax_cross_entropy instead.\n",
      "\n"
     ]
    }
   ],
   "source": [
    "from sklearn.model_selection import train_test_split\n",
    "from sklearn.metrics import (accuracy_score, classification_report)\n",
    "import transformers\n",
    "import accelerate\n",
    "from transformers import BertTokenizer, BertForSequenceClassification, Trainer, TrainingArguments\n",
    "import torch\n",
    "import warnings"
   ]
  },
  {
   "cell_type": "code",
   "execution_count": 4,
   "metadata": {
    "execution": {
     "iopub.execute_input": "2024-12-22T16:19:31.461421Z",
     "iopub.status.busy": "2024-12-22T16:19:31.460494Z",
     "iopub.status.idle": "2024-12-22T16:19:31.475249Z",
     "shell.execute_reply": "2024-12-22T16:19:31.474022Z",
     "shell.execute_reply.started": "2024-12-22T16:19:31.461382Z"
    },
    "trusted": true
   },
   "outputs": [],
   "source": [
    "df = pd.read_csv('../data/raw/low_complexity.csv')"
   ]
  },
  {
   "cell_type": "code",
   "execution_count": 5,
   "metadata": {
    "execution": {
     "iopub.execute_input": "2024-12-22T16:19:31.477142Z",
     "iopub.status.busy": "2024-12-22T16:19:31.476597Z",
     "iopub.status.idle": "2024-12-22T16:19:31.495759Z",
     "shell.execute_reply": "2024-12-22T16:19:31.494715Z",
     "shell.execute_reply.started": "2024-12-22T16:19:31.477100Z"
    },
    "trusted": true
   },
   "outputs": [
    {
     "data": {
      "text/html": [
       "<div>\n",
       "<style scoped>\n",
       "    .dataframe tbody tr th:only-of-type {\n",
       "        vertical-align: middle;\n",
       "    }\n",
       "\n",
       "    .dataframe tbody tr th {\n",
       "        vertical-align: top;\n",
       "    }\n",
       "\n",
       "    .dataframe thead th {\n",
       "        text-align: right;\n",
       "    }\n",
       "</style>\n",
       "<table border=\"1\" class=\"dataframe\">\n",
       "  <thead>\n",
       "    <tr style=\"text-align: right;\">\n",
       "      <th></th>\n",
       "      <th>text</th>\n",
       "      <th>label</th>\n",
       "    </tr>\n",
       "  </thead>\n",
       "  <tbody>\n",
       "    <tr>\n",
       "      <th>0</th>\n",
       "      <td>Tesla stock surges again</td>\n",
       "      <td>2</td>\n",
       "    </tr>\n",
       "    <tr>\n",
       "      <th>1</th>\n",
       "      <td>Inflation fears rattle markets</td>\n",
       "      <td>0</td>\n",
       "    </tr>\n",
       "    <tr>\n",
       "      <th>2</th>\n",
       "      <td>Apple reports record profits</td>\n",
       "      <td>2</td>\n",
       "    </tr>\n",
       "    <tr>\n",
       "      <th>3</th>\n",
       "      <td>Interest rates stay steady</td>\n",
       "      <td>1</td>\n",
       "    </tr>\n",
       "    <tr>\n",
       "      <th>4</th>\n",
       "      <td>Amazon shares drop sharply</td>\n",
       "      <td>0</td>\n",
       "    </tr>\n",
       "    <tr>\n",
       "      <th>...</th>\n",
       "      <td>...</td>\n",
       "      <td>...</td>\n",
       "    </tr>\n",
       "    <tr>\n",
       "      <th>1047</th>\n",
       "      <td>Interest rates are rising</td>\n",
       "      <td>0</td>\n",
       "    </tr>\n",
       "    <tr>\n",
       "      <th>1048</th>\n",
       "      <td>The stock market is unpredictable</td>\n",
       "      <td>1</td>\n",
       "    </tr>\n",
       "    <tr>\n",
       "      <th>1049</th>\n",
       "      <td>Apple new product launch was successful</td>\n",
       "      <td>2</td>\n",
       "    </tr>\n",
       "    <tr>\n",
       "      <th>1050</th>\n",
       "      <td>The economy is recovering slowly</td>\n",
       "      <td>1</td>\n",
       "    </tr>\n",
       "    <tr>\n",
       "      <th>1051</th>\n",
       "      <td>Pfizer vaccine trials showed promising results</td>\n",
       "      <td>2</td>\n",
       "    </tr>\n",
       "  </tbody>\n",
       "</table>\n",
       "<p>1052 rows × 2 columns</p>\n",
       "</div>"
      ],
      "text/plain": [
       "                                                text  label\n",
       "0                           Tesla stock surges again      2\n",
       "1                     Inflation fears rattle markets      0\n",
       "2                       Apple reports record profits      2\n",
       "3                         Interest rates stay steady      1\n",
       "4                         Amazon shares drop sharply      0\n",
       "...                                              ...    ...\n",
       "1047                       Interest rates are rising      0\n",
       "1048               The stock market is unpredictable      1\n",
       "1049         Apple new product launch was successful      2\n",
       "1050                The economy is recovering slowly      1\n",
       "1051  Pfizer vaccine trials showed promising results      2\n",
       "\n",
       "[1052 rows x 2 columns]"
      ]
     },
     "execution_count": 5,
     "metadata": {},
     "output_type": "execute_result"
    }
   ],
   "source": [
    "df"
   ]
  },
  {
   "cell_type": "markdown",
   "metadata": {},
   "source": [
    "# Предобработка"
   ]
  },
  {
   "cell_type": "code",
   "execution_count": 6,
   "metadata": {
    "execution": {
     "iopub.execute_input": "2024-12-22T16:19:31.499256Z",
     "iopub.status.busy": "2024-12-22T16:19:31.498937Z",
     "iopub.status.idle": "2024-12-22T16:19:31.517740Z",
     "shell.execute_reply": "2024-12-22T16:19:31.516338Z",
     "shell.execute_reply.started": "2024-12-22T16:19:31.499229Z"
    },
    "trusted": true
   },
   "outputs": [
    {
     "name": "stdout",
     "output_type": "stream",
     "text": [
      "Количество дубликатов: 140\n"
     ]
    }
   ],
   "source": [
    "# Проверка на дубликаты\n",
    "duplicates = df.duplicated().sum()\n",
    "print(f\"Количество дубликатов: {duplicates}\")"
   ]
  },
  {
   "cell_type": "code",
   "execution_count": 7,
   "metadata": {
    "execution": {
     "iopub.execute_input": "2024-12-22T16:19:31.520760Z",
     "iopub.status.busy": "2024-12-22T16:19:31.520437Z",
     "iopub.status.idle": "2024-12-22T16:19:31.538597Z",
     "shell.execute_reply": "2024-12-22T16:19:31.537422Z",
     "shell.execute_reply.started": "2024-12-22T16:19:31.520734Z"
    },
    "trusted": true
   },
   "outputs": [],
   "source": [
    "# Удаление дубликатов\n",
    "df = df.drop_duplicates()"
   ]
  },
  {
   "cell_type": "code",
   "execution_count": 8,
   "metadata": {
    "execution": {
     "iopub.execute_input": "2024-12-22T16:19:31.540233Z",
     "iopub.status.busy": "2024-12-22T16:19:31.539862Z",
     "iopub.status.idle": "2024-12-22T16:19:31.551674Z",
     "shell.execute_reply": "2024-12-22T16:19:31.550441Z",
     "shell.execute_reply.started": "2024-12-22T16:19:31.540203Z"
    },
    "trusted": true
   },
   "outputs": [
    {
     "name": "stdout",
     "output_type": "stream",
     "text": [
      "Пустые строки в каждом столбце:\n",
      "text     0\n",
      "label    0\n",
      "dtype: int64\n"
     ]
    }
   ],
   "source": [
    "# Проверка на пустые строки\n",
    "missing_values = df.isnull().sum()\n",
    "print(f\"Пустые строки в каждом столбце:\\n{missing_values}\")"
   ]
  },
  {
   "cell_type": "code",
   "execution_count": 9,
   "metadata": {
    "execution": {
     "iopub.execute_input": "2024-12-22T16:19:31.553227Z",
     "iopub.status.busy": "2024-12-22T16:19:31.552853Z",
     "iopub.status.idle": "2024-12-22T16:19:31.799077Z",
     "shell.execute_reply": "2024-12-22T16:19:31.797968Z",
     "shell.execute_reply.started": "2024-12-22T16:19:31.553197Z"
    },
    "trusted": true
   },
   "outputs": [
    {
     "data": {
      "image/png": "[encoded data removed]",
      "text/plain": [
       "<Figure size 640x480 with 1 Axes>"
      ]
     },
     "metadata": {},
     "output_type": "display_data"
    }
   ],
   "source": [
    "# Визуализация распределения классов\n",
    "sns.countplot(x='label', data=df)\n",
    "plt.title('Распределение классов')\n",
    "plt.show()"
   ]
  },
  {
   "cell_type": "code",
   "execution_count": 10,
   "metadata": {
    "execution": {
     "iopub.execute_input": "2024-12-22T16:19:31.800557Z",
     "iopub.status.busy": "2024-12-22T16:19:31.800243Z",
     "iopub.status.idle": "2024-12-22T16:19:31.807966Z",
     "shell.execute_reply": "2024-12-22T16:19:31.806789Z",
     "shell.execute_reply.started": "2024-12-22T16:19:31.800528Z"
    },
    "trusted": true
   },
   "outputs": [
    {
     "name": "stdout",
     "output_type": "stream",
     "text": [
      "Количество экземпляров в каждом классе:\n",
      " label\n",
      "2    442\n",
      "0    321\n",
      "1    149\n",
      "Name: count, dtype: int64\n"
     ]
    }
   ],
   "source": [
    "# Балансировка датасета\n",
    "class_counts = df['label'].value_counts()\n",
    "print(\"Количество экземпляров в каждом классе:\\n\", class_counts)"
   ]
  },
  {
   "cell_type": "code",
   "execution_count": 11,
   "metadata": {
    "execution": {
     "iopub.execute_input": "2024-12-22T16:19:31.809757Z",
     "iopub.status.busy": "2024-12-22T16:19:31.809343Z",
     "iopub.status.idle": "2024-12-22T16:19:31.832225Z",
     "shell.execute_reply": "2024-12-22T16:19:31.831054Z",
     "shell.execute_reply.started": "2024-12-22T16:19:31.809715Z"
    },
    "trusted": true
   },
   "outputs": [],
   "source": [
    "# Балансировка классов (пример: через повторение меньшинства)\n",
    "min_class = class_counts.idxmin()\n",
    "max_class = class_counts.idxmax()\n",
    "difference = class_counts[max_class] - class_counts[min_class]"
   ]
  },
  {
   "cell_type": "code",
   "execution_count": 12,
   "metadata": {
    "execution": {
     "iopub.execute_input": "2024-12-22T16:19:31.833666Z",
     "iopub.status.busy": "2024-12-22T16:19:31.833334Z",
     "iopub.status.idle": "2024-12-22T16:19:31.854224Z",
     "shell.execute_reply": "2024-12-22T16:19:31.852728Z",
     "shell.execute_reply.started": "2024-12-22T16:19:31.833628Z"
    },
    "trusted": true
   },
   "outputs": [],
   "source": [
    "# Повторяем записи в меньшинственном классе\n",
    "min_class_samples = df[df['label'] == min_class].sample(difference, replace=True)\n",
    "df = pd.concat([df, min_class_samples])"
   ]
  },
  {
   "cell_type": "code",
   "execution_count": 13,
   "metadata": {
    "execution": {
     "iopub.execute_input": "2024-12-22T16:19:31.856078Z",
     "iopub.status.busy": "2024-12-22T16:19:31.855685Z",
     "iopub.status.idle": "2024-12-22T16:19:32.015076Z",
     "shell.execute_reply": "2024-12-22T16:19:32.013808Z",
     "shell.execute_reply.started": "2024-12-22T16:19:31.856031Z"
    },
    "trusted": true
   },
   "outputs": [
    {
     "data": {
      "image/png": "[encoded data removed]",
      "text/plain": [
       "<Figure size 640x480 with 1 Axes>"
      ]
     },
     "metadata": {},
     "output_type": "display_data"
    }
   ],
   "source": [
    "# Визуализация распределения классов\n",
    "sns.countplot(x='label', data=df)\n",
    "plt.title('Распределение классов')\n",
    "plt.show()"
   ]
  },
  {
   "cell_type": "code",
   "execution_count": 14,
   "metadata": {
    "execution": {
     "iopub.execute_input": "2024-12-22T16:19:32.016775Z",
     "iopub.status.busy": "2024-12-22T16:19:32.016338Z",
     "iopub.status.idle": "2024-12-22T16:19:32.027927Z",
     "shell.execute_reply": "2024-12-22T16:19:32.026547Z",
     "shell.execute_reply.started": "2024-12-22T16:19:32.016732Z"
    },
    "trusted": true
   },
   "outputs": [
    {
     "name": "stdout",
     "output_type": "stream",
     "text": [
      "Размер тренировочной выборки: 964\n",
      "Размер валидационной выборки: 241\n"
     ]
    }
   ],
   "source": [
    "X = df['text']\n",
    "y = df['label']\n",
    "\n",
    "X_train, X_val, y_train, y_val = train_test_split(X, y, test_size=0.2, random_state=42)\n",
    "\n",
    "print('Размер тренировочной выборки:', X_train.shape[0])\n",
    "print('Размер валидационной выборки:', X_val.shape[0])"
   ]
  },
  {
   "cell_type": "markdown",
   "metadata": {},
   "source": [
    "# Обучим Бертушку"
   ]
  },
  {
   "cell_type": "code",
   "execution_count": 15,
   "metadata": {
    "execution": {
     "iopub.execute_input": "2024-12-22T16:19:32.029497Z",
     "iopub.status.busy": "2024-12-22T16:19:32.029125Z",
     "iopub.status.idle": "2024-12-22T16:19:32.048047Z",
     "shell.execute_reply": "2024-12-22T16:19:32.046548Z",
     "shell.execute_reply.started": "2024-12-22T16:19:32.029465Z"
    },
    "trusted": true
   },
   "outputs": [
    {
     "name": "stdout",
     "output_type": "stream",
     "text": [
      "<class 'list'>\n",
      "['Microsoft sees strong demand for cloud services', 'Google revenue missed estimates', 'Tesla releases impressive autopilot technology', 'Consumer confidence hits all-time high', 'Starbucks sales missed projections', 'Google introduces new advertising options', 'Disney streaming service surpasses subscriber targets', 'GameStop stock price plummets', 'American Express introduces new card', 'Home prices continue to rise', 'Bond yields hit historic lows', 'Stock prices fluctuate unpredictably', 'Central bank maintains policies', 'Amazon expands into healthcare industry', 'Google stock price rose', 'The Federal Reserve kept rates steady', 'Intel faces supply chain disruptions', 'Amazon announces new warehouse locations', 'Central bank maintains policies', 'Investor confidence remains high', 'Tesla stock falls after recall announcement', 'Netflix introduces new pricing plans', 'Google faces antitrust scrutiny', 'McDonald introduces new menu items', 'Inflation concerns drive up gold prices', 'Tesla faces supply chain challenges', 'Microsoft introduces new Surface products', 'Google faces backlash over diversity policies', 'Oil prices have rebounded', 'Bitcoin drops after record high', 'Tech company faces major antitrust investigation', 'Earnings beat expectations stock rises', 'Netflix subscriber base shrinks', 'Oil prices continue to rise', 'Oil prices fall due to oversupply', 'Trade tensions are escalating', 'Netflix subscriber growth slows', 'Economic growth remains steady', 'Consumer spending remains flat', 'Federal Reserve signals possible rate increase', 'Tech stocks continue upward trend', 'Tesla production delays disappoint investors', 'Amazon introduces one-day shipping', 'Global economic growth slows', 'Coca-Cola sustainability efforts recognized', 'Interest rates stay steady', 'The Fed announced stimulus', 'Inflation remains low', 'US government announces economic stimulus', 'Alphabet reports strong earnings', 'Fed hints at future rate increase', 'Market remains steady amid uncertainty', 'Fed chair Jerome Powell signals support for economic growth', 'Interest rates remain low', 'Company faces major restructuring', 'Interest rates stay steady', 'Stock prices experience minor gains', 'Online sales continue to grow', 'The stock market is stagnating', 'Google releases new search algorithm', 'Disney streaming service grew', 'Job market remains stable', 'Investors flock to safe-haven assets', 'Central bank maintains policies', 'Zoom stock price skyrockets', 'Analysts predict bear market ahead', 'The Dow hits new high', 'Disney announces record earnings', 'Analysts predict bearish market trend', 'Bank of America faces fines over fraudulent practices', 'Netflix releases highly anticipated movie', 'Tesla profits surged', 'Banks report strong earnings', 'Twitter bans controversial accounts', 'Market experiences minor gains', 'Jobless claims decrease slightly', 'Housing market faces rising interest rates', 'The Fed is considering tapering', 'The economy is stable', 'NVIDIA stock prices soar', 'Facebook introduces new ad features', 'Stock market closes at all-time high', 'Bank of America reports strong earnings', 'Nike releases popular new collection', 'Home sales climb steadily', 'Economic growth remains steady', 'Google revenue exceeded expectations', 'Google faces antitrust investigations', 'Company announces major dividend increase', 'Stock market experiences slight gains', 'Retail industry adapts to online shopping', 'Apple introduces new MacBook models', 'Facebook ad revenue continues to grow', 'Bond yields hit historic lows', 'The NASDAQ is up', 'Boeing faces safety concerns', 'Google cloud services gain market share', 'Twitter introduces new ad options', 'Delta Airlines stock is falling', 'Facebook user growth slows down', 'Moderna COVID vaccine shows efficacy', 'Stock market experiences major gains', 'Gold prices reach new high', 'Netflix introduces new pricing plans', 'Apple reports record profits', 'Cryptocurrency gains mainstream acceptance', 'Zoom revenue surges due to remote work', 'Housing market faces slowdown', 'Zoom security measures improve', 'Renewable energy stocks gain momentum', 'China tech industry sees rapid growth', 'Microsoft announces new partnerships', 'Facebook introduces new features', 'Federal Reserve announces rate hike', 'Bank stocks outperform market expectations', 'Interest rates remain steady', 'Consumer confidence rebounds slowly', 'Interest rates remain stable', 'The market is fluctuating wildly', 'Trade negotiations boost markets', 'Procter & Gamble reports strong earnings', 'Disney theme parks reopen to crowds', 'Travel industry sees slow recovery', 'Housing market sees steady growth', 'Gas prices rise due to supply chain disruptions', 'Bank of America invests in community development', 'Bitcoin hits all-time high', 'Facebook faces criticism over privacy concerns', 'The economy is recovering slowly', 'Microsoft reports record profits', 'Retail sales rebound after pandemic', 'Netflix stock falls after earnings report', 'Market remains stable amid uncertainty', 'Starbucks announces expansion plans', 'Uber faces legal challenges', 'Inflation concerns drive up gold prices', 'Zoom stock falls after earnings report', 'The economy is recovering', 'Zoom announces new security measures', 'Verizon introduces new 5G technology', 'Interest rates set to rise soon', 'Company faces major regulatory hurdles', 'Auto industry faces challenges ahead', 'Stock prices fluctuate unpredictably', 'Google introduces new AI technology', 'Twitter profits exceeded expectations', 'Pfizer new drug was approved', 'Oil prices remain steady', 'Social media stocks experience volatility', 'Housing market faces affordability crisis', 'Market experiences minor gains', 'Apple faces backlash over app store policies', 'Twitter user growth remains stagnant', 'Tesla faces scrutiny over autopilot safety', 'Company announces expansion plans', 'Interest rates are stable', 'Coca-Cola introduces new product line', 'The Dow Jones is down', 'Zoom faces competition from rival platforms', 'Ford announces new electric vehicle', 'GameStop shares skyrocket amid Reddit frenzy', 'Facebook launches new features', 'Amazon dominates holiday sales season', 'The stock market is optimistic', 'Interest rates remain low', 'Amazon faces antitrust investigation', 'Google revenue meets expectations', 'Facebook sees decline in usage', 'Economic growth forecast revised', 'Oil prices rise affecting markets', 'Housing market faces shortage of homes for sale', 'Netflix international subscriber base grows', 'Oracle reports strong cloud revenue', 'Interest rates are stable', 'Tesla stock prices reach new highs', 'Market reacts negatively to trade tensions', 'Company faces major cybersecurity breach', 'Rising gas prices concern consumers', 'Economic indicators show improvement', 'Tesla introduces new model', 'Chip shortage impacts tech industry', 'Facebook launches new cryptocurrency Libra', 'US and China sign trade deal', 'Market experiences major selloff', 'Stock prices experience minor dip', 'The Fed is considering tapering', 'Oil prices surge after OPEC meeting', 'Tesla faces challenges with supply chain', 'Amazon faces criticism for worker conditions', 'Amazon faces criticism over worker conditions', 'Banks struggle with low interest rates', 'Bank stocks rebound after dip', 'Company faces major financial fraud', 'Oil prices have surged recently', 'Company receives major funding boost', 'Microsoft acquires Nuance Communications', 'Chipotle beats earnings estimates', 'Facebook launches new features', 'Interest rates remain historically low', 'Fed signals possible rate hike', 'Jobless claims hit pandemic-era low', 'Google introduces new search algorithm', 'Coca-Cola revenue declined', 'Real estate prices skyrocket', 'Tesla faces production challenges', 'Bank of America sees drop in profits', 'Trade tensions between US and China persist', 'Amazon expands into new markets', 'Alibaba faces regulatory crackdown', 'China economy slows down', 'Snapchat launches new augmented reality features', 'Oil prices rise due to supply cuts', 'Zoom video conferencing popularity wanes', 'US economy shows signs of growth', 'Gold prices remain stable', 'Interest rates remain steady', 'Facebook introduces new privacy measures', 'Stock prices stabilize after turbulence', 'Interest rates are rising gradually', 'Fed signals possible rate hike', 'Federal Reserve announces rate hike', 'Tech company announces major acquisition', 'Real estate market experiences rapid growth', 'Industrial output exceeds expectations', 'Company faces major data breach', 'Oil prices climb amid global demand', 'Interest rates remain low', 'Economic recovery gains momentum', 'The market is stagnant', 'Facebook revenue growth slows', 'Investors remain cautiously optimistic', 'Cryptocurrency market experiences volatility', 'Bank of America increases lending to small businesses', 'Federal Reserve maintains low rates', 'Company reports flat earnings growth', 'Amazon expands grocery delivery services', 'Pfizer experiences vaccine supply chain issues', 'Apple sales hit record high', 'Apple introduces new iPad models', 'Apple revenue growth slows', 'Pfizer announces promising COVID treatment', 'Apple stock soared today', 'Apple new product launch was successful', 'China economy shows moderate growth', 'Twitter introduces new features', 'Market experiences minor correction', 'Apple earnings have exceeded expectations', 'Unemployment rate drops slightly', 'The bond market is stable', 'Market remains stable amid uncertainty', 'Nike brand loyalty remains strong', 'The stock market is unpredictable', 'Amazon profits soar', 'Microsoft acquires major gaming company', 'Oil prices continue to climb', 'Google AI technology improves search results', 'Trade deals boost markets', 'The stock market is bearish', 'Starbucks sales rose sharply', 'Pandemic causes economic downturn', 'Amazon expands into healthcare market', 'Apple releases new iPhone lineup', 'Apple releases highly anticipated product', 'Facebook launches new features', 'Oil prices stabilize after drop', 'Unemployment rates decreased', 'Netflix introduces new pricing plans', 'Tesla delivery numbers disappoint investors', 'Tech company faces major legal battle', 'US-China trade tensions escalate', 'Amazon stock drops after CEO transition announcement', 'Johnson & Johnson faces legal battles', 'Tesla autopilot system under investigation', 'Tesla surpasses sales expectations', 'Retail sector sees strong sales', 'Twitter ad revenue falls short', 'Tech company experiences major data breach', 'The S&P 500 fell', 'Facebook introduces new data privacy measures', 'Twitter user growth remains stagnant', 'Company faces regulatory fines', 'Retail sector struggles during pandemic', 'Microsoft acquires AI firm', 'Southwest Airlines faces flight cancellations', 'Tech company announces major innovation', 'Tesla reports record quarterly earnings', 'Google search engine dominance questioned', 'Social media stocks experience volatility', 'Disney+ surpasses subscriber goals', 'Amazon dominates holiday shopping', 'Apple faces supply chain challenges', 'Tesla stock experiences volatility', 'Inflation remains steady easing concerns', 'Facebook faces backlash over data privacy', 'Semiconductor industry sees steady demand', 'Tesla stock price drops suddenly', 'Company reports flat earnings growth', 'Trade tensions threaten markets', 'Microsoft reports solid earnings growth', 'Google search algorithm updates prompt controversy', 'Google cloud services revenue exceeds estimates', 'Oil prices plummet affecting markets', 'Microsoft stock price hits record high', 'Economic outlook remains uncertain', 'Home sales surge amid pandemic', 'Facebook user engagement reaches all-time high', 'Federal Reserve maintains low rates', 'Apple announces new product launch', 'Inflation concerns weigh on stocks', 'Stock market experiences slight gains', 'Twitter introduces new ad options', 'Company reports record profits', 'Oil prices fluctuate amid uncertainty', 'Oil prices soar amid global tensions', 'Interest rates remain steady', 'Pfizer vaccine boosted sales', 'Microsoft introduces new software tools', 'Snapchat user growth slows', 'Company faces major PR crisis', 'The market is uncertain', 'Market rebounds after previous losses', 'Coca-Cola sales grew slowly', 'Amazon acquires MGM Studios', 'Bitcoin surges above $50k', 'Amazon profits dropped slightly', 'United Airlines announces new routes', 'Oil prices have dropped', 'Stock prices experience major gains', 'Netflix subscriber growth slowed', 'Interest rates remain steady', 'Bank of America mobile banking usage rises', 'Amazon buys MGM studios', 'Investors flock to safe-haven assets', 'Google revenue meets expectations', 'The stock market is neutral', 'Tesla breaks production records', 'Alphabet revenue grows despite pandemic', 'Tesla earnings exceed expectations', 'Retail sales surge during holiday season', 'Company announces major product launch', 'New tax law benefits investors', 'Apple introduces new iPhone models', 'Cryptocurrency faces regulatory scrutiny', 'Apple unveils new product lineup', 'Market remains neutral ahead of earnings reports', 'Microsoft announces new dividend payout', 'Amazon revenue beat expectations', 'Netflix user base surpasses projections', 'Amazon revenue exceeded expectations', 'Twitter user engagement declines', 'Amazon faces worker protests', 'Tesla stock surges again', 'Apple iPhone sales decline', 'Twitter user base stagnates', 'Facebook introduces new e-commerce features', 'Amazon stock price soared', 'Tech sector sees mixed results', 'Retail sales increase in Q4', 'Google search algorithm faces controversy', 'Homebuilding industry shows signs of recovery', 'Zoom security measures improve', 'General Electric announces new CEO', 'Bitcoin price drops sharply', 'Investors remain cautiously optimistic', 'Twitter user growth slows', 'Economic outlook remains positive', 'The Fed is considering tapering', 'Inflation causes concern for investors', 'Apple unveils new iPhone lineup', 'Interest rates remain unchanged', 'Microsoft acquires leading AI company', 'Company faces major management shake-up', 'Inflation remains below target levels', 'Interest rates unchanged after Fed meeting', 'Microsoft faces antitrust investigations', 'The economy is uncertain', 'The stock market is neutral', 'Netflix introduces new parental controls', 'Inflation concerns subside', 'Economic indicators show mixed results', 'Disney streaming service gains subscribers', 'Central bank maintains policies', 'Apple market share sees moderate gains', 'Oil prices reach new high', 'Industrial output shows moderate growth', 'Facebook ad revenue grows', 'Economic indicators show mixed results', 'Apple iPhone sales exceed expectations', 'Disney announces new streaming service', 'Interest rates remain steady', 'Interest rates rise affecting mortgages', 'Microsoft cloud services experience downtime', 'Disney+ hits milestone subscriber count', 'Gas prices remain stable', 'Stock market volatility increases', 'Inflation worries investors again', 'Google expands into new markets', 'Inflation concerns subside', 'Google revenue exceeds expectations', 'Gold prices hit all-time high', 'Market uncertainty causes volatility', 'Housing market experiences slight dip', 'Apple quarterly earnings impress', 'Markets rally on vaccine news', 'Amazon Prime Day breaks records', 'The bond market is stable', 'The housing market is booming', 'Company reports flat earnings growth', 'Amazon workers unionize for better pay', 'Social media stocks experience volatility', 'Microsoft acquires new startup company', 'Apple faces criticism over app store policies', 'Inflation concerns weigh heavily', 'Market remains cautious amid uncertainty', 'The economy is stable', 'Health care industry sees gains', 'Inflation remains low', 'Facebook introduces new messaging features', 'Interest rates are low', 'Interest rates are steady', 'Facebook faces user privacy concerns', 'Amazon workers unionize for better pay', 'Microsoft beats earnings estimates', 'Travel industry bounces back', 'Twitter user growth remains stagnant', 'Inflation worries continue to mount', 'Facebook introduces new virtual reality platform', 'Inflation concerns subside', 'Nike profits exceed estimates', 'Chip shortage disrupts auto industry', 'Market anticipates upcoming policy changes', 'Market experiences minor correction', 'Company faces government antitrust lawsuit', 'Interest rates unchanged after Fed meeting', 'Inflation remains at steady rate', 'Cryptocurrency market stabilizes after volatility', 'Zoom introduces new features', 'Apple revenue fell short', 'Microsoft cloud services revenue grows', 'Oil prices continue to rise', 'Gold prices are falling', 'The economy is in recession', 'Company faces major product recall', 'Inflation stays within expectations', 'Tesla Model Y receives top safety rating', 'The economy is stable', 'Disney earnings exceeded expectations', 'Apple AirPods dominate wireless earbud market', 'Amazon delivery times improve', 'Economic indicators point to recession', 'The economy is recovering slowly', 'Fed maintains interest rates', 'Apple new iPhone receives mixed reviews', 'Microsoft cloud services revenue soars', 'Chip shortage continues to impact auto industry', 'Facebook user growth slows down', 'The market is fluctuating wildly', 'Twitter introduces new feature to curb misinformation', 'Travel industry faces uncertainty amid pandemic', 'Economic indicators point to growth', 'Housing market shows signs of cooling', 'Google self-driving car faces accidents', 'Bond yields hit new lows', 'Company reports disappointing earnings', 'Netflix reports strong subscriber growth', 'Bond yields show moderate growth', 'Google ad revenue falls short of expectations', 'The stock market crashed', 'Inflation concerns subside', 'Tesla profits soared', 'Federal Reserve announces rate hike', 'Tesla solar panels become more affordable', 'Global economic recovery stalls', 'Visa partners with cryptocurrency platform', 'Oil prices stabilize after drop', 'Amazon acquires MGM Studios', 'Bank of America faces regulatory fines', 'ExxonMobil is facing headwinds', 'Housing market experiences slight dip', 'Interest rates are rising', 'Amazon Prime membership hits new high', 'Company announces major expansion plans', 'Mastercard announces new digital wallet', 'Inflation stays within expectations', 'Market anticipates major merger announcement', 'Economic growth slows down', 'Consumer spending shows steady growth', 'Real estate market stabilizes', 'Inflation remains at steady rate', 'The economy is booming', 'Microsoft announces new partnerships', 'Tesla revenue exceeds expectations', 'Wall Street anticipates market correction', 'Pfizer vaccine trials showed promising results', 'Google introduces new privacy features', 'Company announces new CEO', 'Microsoft acquires Nuance Communications', 'Stock prices fluctuate unpredictably', 'Fed lowers interest rates', 'China tech crackdown affects stocks', 'China regulatory crackdown affects tech stocks', 'Exxon Mobil faces environmental lawsuits', 'Tech industry faces regulation', 'Inflation reaches record high', 'Market reacts positively to stimulus measures', 'The market is uncertain', 'Inflation concerns subside', 'Company expands into new markets', 'Stock prices remain stagnant', 'Amazon acquires new technology company', 'Tesla faces quality control issues', 'Housing market faces inventory shortage', 'Twitter revenue exceeds expectations', 'Amazon expands into healthcare', 'The economy is uncertain', 'The market is stagnant', 'Tech stocks experience volatility', 'Snapchat redesign receives mixed reviews', 'Google faces antitrust lawsuit', 'The market is neutral', 'Amazon acquires major competitor', 'Market experiences major rally', 'Microsoft surpasses trillion market cap', 'Amazon expands into grocery market', 'Financial sector adapts to digital age', 'Jobless claims hit record high', 'Twitter stock plummets after earnings report', 'Inflation remains steady easing concerns', 'Company announces stock buyback', 'Tesla stock prices surge higher', 'Economic growth slows amid rising interest rates', 'Tesla introduces new model', 'Snapchat redesign receives mixed reviews', 'Social media faces content moderation challenges', 'Netflix suspends production due to pandemic', 'Interest rates remain stable', 'Amazon is expanding its reach', 'Jobless claims rise unexpectedly', 'Market anticipates upcoming earnings reports', 'Apple market share sees moderate gains', 'Trade tensions weigh on markets', 'Netflix introduces new interactive programming', 'Market experiences major correction', 'Bitcoin prices are volatile', 'Market anticipates new product launch', 'Fed maintains interest rates', 'Coinbase goes public in highly anticipated IPO', 'Tesla stock surges after earnings report', 'Bank of America loan portfolio grows', 'Real estate market booming', 'Economic recovery continues despite setbacks', 'Pfizer vaccine shows promising results', 'Investors show confidence in company', 'Corporate earnings beat estimates', 'Oil prices rise affecting markets', 'Market suffers steep losses', 'Google revenue growth slows', 'Interest rates are unpredictable', 'Delta variant weighs on travel industry', 'Company announces strategic partnership', 'Interest rates increase affecting stocks', 'Travel industry sees steady growth', 'Interest rates remain favorable for investors', 'Interest rates remain low', 'Google faces regulatory fines', 'Tesla market share expands', 'TikTok advertising revenue grows', 'GameStop announces new CEO', 'Amazon shares drop sharply', 'Stock prices remain stagnant', 'Zoom faces competition from rival platforms', 'Apple releases new product line', 'Tesla stock price drops slightly', 'Bond yields hit historic lows', 'Facebook announces new content moderation policies', 'Moderna announces COVID booster shot', 'Retail sector struggles amid pandemic', 'Federal Reserve maintains low rates', 'Inflation fears drive market down', 'Job growth remains sluggish', 'Cryptocurrency market experiences surge', 'The housing market is slowing', 'Apple invests heavily in electric vehicles', 'Amazon revenue growth slows', 'Tesla announces plans for new factory', 'Market experiences minor dip', 'Google is a dominant force', 'Consumer confidence hits all-time low', 'Company faces product recall', 'Alphabet revenue beats expectations', 'Economic growth slows amid trade tensions', 'Health care industry sees mixed results', 'Twitter user base grew', 'Tesla stock price plummets', 'The market is stagnant', 'Amazon announces plans for new headquarters', 'Amazon acquires new AI startup', 'Stock prices experience major surge', 'Microsoft revenue beats expectations', 'Intel revenue fell short', 'Oil prices continue to rise', 'Oil prices plummet due to oversupply', 'Johnson & Johnson faces legal challenges', 'Company announces successful turnaround plan', 'Apple launches new product line', 'The Fed announced rate hike', 'Bank of America faces lawsuits over mortgage practices', 'Visa net income increased', 'Nike new product launch receives mixed reviews', 'Tesla announces impressive Q3 earnings', 'Inflation is on the rise', 'Walmart expands into healthcare', 'Social media stocks soar', 'Snapchat redesign receives mixed reviews', 'The NASDAQ is down', 'Microsoft acquires new company', 'US economy shows signs of recovery', 'General Electric faces declining profits', 'China economy shows moderate growth', 'Facebook launches new features', 'Stock prices experience minor gains', 'Stock market shows resilience', 'Investors flock to safe-haven assets', 'Apple faces lawsuit over patent infringement', 'Google revenue surpasses forecast', 'Company announces record-breaking profits', 'Market experiences minor correction', 'The Federal Reserve cut rates', 'Tesla announces new product line', 'Company faces legal troubles', 'Jobless claims decrease slightly', 'Company announces bankruptcy filing', 'Market experiences minor correction', 'The stock market is stagnating', 'Coca-Cola revenue has declined', 'Stock prices fluctuate unpredictably', 'Interest rates remain favorable for borrowers', 'Bond yields show moderate growth', 'US dollar gains ground', 'Stock market experiences record gains', 'Zoom security concerns prompt updates', 'Twitter introduces new advertising features', 'Market remains steady amid uncertainty', 'Stock prices stabilize after turbulence', 'Google revenue growth slows', 'Alibaba faces antitrust crackdown', 'Interest rates remain unchanged', 'Unemployment rates remain high', 'Stock prices fluctuate unpredictably', 'Bank of America announces dividend increase', 'Facebook reports record profits', 'Bank stocks experience volatility', 'Facebook revenue growth slows', 'Stock prices remain steady amid uncertainty', 'Facebook user growth slows down', 'Gold prices fall sharply', 'Oil prices remain steady', 'Oil prices rise affecting markets', 'Inflation rates spike unexpectedly', 'Tesla faces production delays', 'Coca-Cola announces dividend increase', 'Amazon Prime Day breaks sales records', 'Oil prices surge on supply constraints', 'Google revenue meets expectations', 'General Electric stock plummets', 'Visa posts strong earnings report', 'Tesla faces production delays for new model', 'Housing market shows signs of slowing', 'Housing market cools off', 'IBM introduces new quantum computing system', 'Amazon announces new sustainability initiatives', 'Stock market experiences slight gains', 'Market remains stable ahead of key events', 'The market is optimistic', 'Interest rates remain unchanged', 'Microsoft Surface sales see strong growth', 'Company faces intense competition', 'Apple announces record quarterly earnings', 'Housing market experiences record high prices', 'Consumer spending shows steady growth', 'Oil prices fluctuate amid uncertainty', 'Tesla announces record profits', 'Energy sector struggles to recover', 'Retailers adapt to changing consumer behavior', 'Microsoft acquires major startup', 'Google faces backlash over data privacy', 'Consumer confidence rebounds slowly', 'Bank stocks face volatile market conditions', 'Housing market shows steady growth', 'Financial sector struggles amidst pandemic', 'Stock prices experience major dip', 'Housing market experiences slow down', 'Retailers adapt to changing consumer behavior', 'Google faces antitrust lawsuits', 'Google self-driving cars hit the road', 'Interest rates are steady', 'GameStop stock experiences wild ride', 'Market remains stable amid uncertainty', 'Housing market sees continued growth', 'Market experiences minor gains', 'Oil prices stabilize after drop', 'JPMorgan reports strong profits', 'Industrial output shows moderate growth', 'Amazon profits dropped slightly', 'Retail industry adapts to online shopping', 'Amazon acquires new streaming service', 'Amazon workers unionize for better pay', 'Inflation remains at steady rate', 'Consumer confidence rebounds slowly', 'Company faces intense competition', 'Tech sector dominates market', 'Interest rates hit all-time low', 'Inflation worries investors', 'Economic growth slows amid global trade tensions', 'Consumer confidence rebounds slowly', 'Social media companies face increased scrutiny', 'Microsoft earnings beat estimates', 'Tech company faces major backlash', 'Zoom faces competition from rival platforms', 'The Federal Reserve raised rates', 'Gold prices surged', 'Housing market experiences slight dip', 'Microsoft acquires major startup', 'Microsoft stock price increases', 'Company announces new CEO', 'Tech stocks experience volatility', 'Amazon expands into new international markets', 'Interest rates set to rise', 'Microsoft acquires major startup', 'Central bank maintains policies', 'Tesla production numbers disappointed', 'Inflation concerns persist', 'Tesla Model Y production ramps up', 'Amazon acquires new startup', 'Apple new iPhone receives mixed reviews', 'Inflation fears subside market rebounds', 'Company announces dividend increase', 'Consumer confidence rebounds slowly', 'Company reports flat earnings growth', 'Company faces shareholder backlash', 'Walmart beats earnings estimates', 'Facebook faces privacy concerns', 'Apple introduces new iPhone', 'Google YouTube faces ad boycotts', 'Investors remain cautiously optimistic', 'Retailers struggle amid supply chain disruptions', 'Market experiences minor correction', 'Tech stocks lead market rally', 'Stock prices remain stagnant', 'Goldman Sachs reports strong earnings', 'Facebook revenue exceeds expectations', 'TikTok popularity boosts parent company', 'Consumer confidence hits record high', 'Netflix introduces new binge-worthy shows', 'Market reacts positively to government stimulus', 'China tech giants face regulatory crackdown', 'Oil prices continue to rise', 'Visa net income fell', 'Federal Reserve announces rate hike', 'Tesla production increased', 'Walmart profits are rising', 'Stock market experiences slight gains', 'Netflix subscriber growth slows', 'Interest rates stay steady', 'Housing market experiences record high prices', 'Bitcoin sees renewed interest', 'Tariff threats cause market uncertainty', 'Fed signals potential rate hike', 'Economic growth remains steady', 'Facebook ad revenue exceeds expectations', 'Bitcoin reaches all-time high', 'Social media stocks experience volatility', 'Netflix faces competition from rival platforms', 'The economy is uncertain', 'Inflation remains at steady rate', 'Tech companies face regulation', 'Interest rates lowered to stimulate economy', 'Netflix subscriber growth slows', 'Economic indicators show mixed results', 'General Motors faces chip shortages', 'Economic growth remains sluggish', 'Zoom faces competition from rival platforms', 'Cryptocurrency regulation remains uncertain', 'Bank of America introduces new credit card', 'Unemployment rate drops slightly', 'GameStop stock experiences wild ride', 'Apple faces patent infringement lawsuits', 'Apple introduces new iPhone', 'Inflation remains low', 'Interest rates on the rise', 'Bank stocks see moderate gains', 'Fed announces interest rate hike', 'Credit ratings agency downgrades company', 'Interest rates rise for first time in years', 'Earnings reports disappoint investors', 'Stock market recovers after dip', 'Moderna announces COVID booster shot', 'Facebook ad revenue surged', 'Interest rates increase slightly', 'Gas prices remain stable', 'Interest rates are steady', 'Snapchat introduces new augmented reality filters', 'Interest rates hit record lows', 'Zoom sees exponential growth', 'The housing market is strong', 'Retail industry adapts to online shopping', 'The economy is stable', 'Snapchat daily active users increase', 'Amazon profit margins declined', 'Microsoft partners with major tech firm', 'Tech company faces major data breach', 'Inflation fears rattle markets', 'Ford stock rises after electric vehicle announcement', 'Economic indicators show positive signs', 'Facebook launches new features', 'GameStop stock experiences wild ride', 'Amazon introduces new delivery options', 'Inflation concerns drive market down', 'Company faces intense competition', 'Moderna announces progress in COVID-19 vaccine research', 'Market experiences minor gains', 'Stock prices experience minor losses', 'Consumer confidence rebounds slowly', 'Interest rates rise unexpectedly', 'Company announces major product release', 'Health care industry sees mixed results', 'Twitter introduces new ad options', 'Unemployment rate drops dramatically', 'Company announces layoffs and restructuring', 'Amazon acquires MGM Studios', 'Tesla growth prospects are bright', 'Company faces major supply chain disruptions', 'The bond market is stable', 'Johnson & Johnson stock rises', 'Federal Reserve announces rate hike', 'Facebook faces content moderation issues', 'Cryptocurrency adoption grows rapidly', 'Amazon acquires MGM Studios', 'Amazon stock prices drop', 'Tesla Model S recalled', 'Investors remain cautiously optimistic', 'Bitcoin value is skyrocketing', 'Economic growth forecast revised', 'Tesla revenue grew', 'Microsoft stock rose sharply', 'Housing prices see modest gains', 'Google Cloud wins major contract', 'Twitter introduces new features for users', 'Energy sector faces challenges ahead', 'Amazon sales exceeded projections', 'Bank stocks suffer losses in volatile market', 'Fintech startups disrupt traditional banking', 'The Federal Reserve kept rates steady', 'US-China trade tensions ease', 'Stock market experiences major rally', 'Consumer spending slows down', 'Interest rates remain unchanged', 'Company announces successful cost-cutting measures', 'Market anticipates upcoming IPO', 'Pfizer vaccine receives FDA approval', 'Industrial output shows moderate growth', 'Oil prices plummet amid oversupply', 'Tesla introduces new solar panels', 'Market remains neutral ahead of earnings reports', 'Amazon profits dropped slightly', 'GameStop stock experiences wild ride', 'Real estate market stabilizes', 'Disney theme parks see attendance increase', 'Oil prices dip after OPEC meeting', 'The stock market is unpredictable', 'Bitcoin hits new all-time high', 'Interest rates are steady', 'Travel industry sees slow recovery', 'Housing market experiences price drops', 'Inflation leads to higher prices', 'Snapchat redesign receives backlash', 'Housing market experiences record high prices', 'Trade tensions negatively impact stocks', 'Market experiences minor dip', 'Company announces dividend cut', 'Pfizer COVID vaccine approved', 'Amazon announces plans to hire thousands', 'Microsoft acquires new startup', 'Oil prices continue to rise', 'Twitter bans controversial figure', 'Twitter bans controversial accounts', 'Bitcoin prices plunge suddenly', 'Financial sector faces regulatory changes', 'Bank of America invests in green initiatives', 'Earnings reports exceed expectations', 'Consumer spending remains flat', 'Apple earnings surpassed expectations', 'Google ad revenue grows', 'Interest rates expected to rise', 'Economic recovery boosts stock market', 'Job market remains stable', 'Twitter new feature gains popularity', 'The market is volatile', 'Oil prices reach new low', 'Housing market faces slowdown', 'US-China trade tensions ease', 'Pfizer COVID vaccine receives FDA approval', 'Market remains stable ahead of key events', 'Oil prices surge due to supply cuts', 'Company announces record-breaking revenue', 'Company announces new CEO', 'Ford sales have been sluggish', 'Fed signals possible rate hike', 'Tech stocks experience volatility', 'Fed signals possible rate hike', 'General Electric faces restructuring', 'Chip shortages impact tech companies', 'Stock market plunges unexpectedly', 'Facebook stock price reaches new highs', 'Market anticipates major merger announcement', 'Federal Reserve announces rate hike', 'Tesla deliveries missed estimates', 'Inflation is a growing concern', 'Bitcoin crashes below $30k', 'Amazon invests in renewable energy', 'Uncertainty looms over tech sector', 'Bank stocks decline amid economic uncertainty', 'Company announces major layoffs', 'Microsoft introduces new gaming console', 'Zoom revenue growth slows', 'The economy is slowing', 'Stock market rebounds from dip', 'Interest rates reach historic lows', 'Housing market experiences record high prices', 'The S&P 500 hit new highs', 'The unemployment rate is decreasing', 'Tech sector sees mixed results', 'Interest rates increase unexpectedly', 'Social media companies face misinformation challenges', 'Job market shows slow recovery', 'Housing market faces slowdown', 'Tech company announces major product release', 'Apple introduces new iPhone features', 'Oil prices stabilize after drop', 'Google faces criticism over antitrust practices', 'Facebook user engagement increased', 'Consumer confidence declines rapidly', 'Google cloud computing business sees growth', 'Interest rates remain low', 'Amazon faces antitrust investigations', 'The economy is recovering slowly', 'Disney+ announces new content', 'Gas prices remain stable', 'Bank of America releases positive earnings report', 'Retail sector adapts to online sales', 'Jobless claims fall to record low', 'Semiconductor industry sees major growth', 'Tesla announces new battery technology', 'The economy is in recovery', 'The stock market is neutral', 'General Motors announces electric vehicle plans', 'Microsoft announces major investment in renewable energy', 'Zoom sees explosive user growth', 'Microsoft reports strong cloud revenue', 'Amazon workers unionize for better pay', 'Netflix introduces new pricing plans', 'Travel industry sees slow recovery', 'The unemployment rate rose', 'Bank stocks experience volatility']\n"
     ]
    }
   ],
   "source": [
    "X_train = [str(x) for x in X_train]\n",
    "\n",
    "print(type(X_train))\n",
    "print(X_train)"
   ]
  },
  {
   "cell_type": "code",
   "execution_count": 16,
   "metadata": {
    "execution": {
     "iopub.execute_input": "2024-12-22T16:19:32.049697Z",
     "iopub.status.busy": "2024-12-22T16:19:32.049184Z",
     "iopub.status.idle": "2024-12-22T16:19:32.511244Z",
     "shell.execute_reply": "2024-12-22T16:19:32.509982Z",
     "shell.execute_reply.started": "2024-12-22T16:19:32.049640Z"
    },
    "trusted": true
   },
   "outputs": [],
   "source": [
    "# Загружаем токенайзер для BERT'a\n",
    "tokenizer = BertTokenizer.from_pretrained('bert-base-uncased')\n",
    "\n",
    "# Токенизируем входящий текст\n",
    "train_encodings = tokenizer(list(X_train), truncation=True, padding=True, return_tensors='pt')\n",
    "val_encodings = tokenizer(list(X_val), truncation=True, padding=True, return_tensors='pt')"
   ]
  },
  {
   "cell_type": "code",
   "execution_count": 17,
   "metadata": {
    "execution": {
     "iopub.execute_input": "2024-12-22T16:19:32.513101Z",
     "iopub.status.busy": "2024-12-22T16:19:32.512603Z",
     "iopub.status.idle": "2024-12-22T16:19:32.520251Z",
     "shell.execute_reply": "2024-12-22T16:19:32.518971Z",
     "shell.execute_reply.started": "2024-12-22T16:19:32.513056Z"
    },
    "trusted": true
   },
   "outputs": [],
   "source": [
    "# Создадим датасет\n",
    "class SentimentDataset(torch.utils.data.Dataset):\n",
    "    def __init__(self, encodings, labels):\n",
    "        self.encodings = encodings\n",
    "        self.labels = labels\n",
    "        \n",
    "    def __getitem__(self, idx):\n",
    "        item = {key:torch.tensor(val[idx], dtype=torch.long)\n",
    "                for key, val in self.encodings.items()}\n",
    "        item['labels'] = torch.tensor(self.labels[idx], dtype=torch.long)\n",
    "        return item\n",
    "    \n",
    "    def __len__(self):\n",
    "        return len(self.labels)"
   ]
  },
  {
   "cell_type": "code",
   "execution_count": 18,
   "metadata": {
    "execution": {
     "iopub.execute_input": "2024-12-22T16:19:32.521644Z",
     "iopub.status.busy": "2024-12-22T16:19:32.521226Z",
     "iopub.status.idle": "2024-12-22T16:19:32.546743Z",
     "shell.execute_reply": "2024-12-22T16:19:32.545538Z",
     "shell.execute_reply.started": "2024-12-22T16:19:32.521596Z"
    },
    "trusted": true
   },
   "outputs": [],
   "source": [
    "# Создадим датасеты для тренировки, валидации и тестирования выборок\n",
    "train_dataset = SentimentDataset(train_encodings, y_train.tolist())\n",
    "val_dataset = SentimentDataset(val_encodings, y_val.tolist())"
   ]
  },
  {
   "cell_type": "code",
   "execution_count": 19,
   "metadata": {
    "execution": {
     "iopub.execute_input": "2024-12-22T16:19:32.548433Z",
     "iopub.status.busy": "2024-12-22T16:19:32.548021Z",
     "iopub.status.idle": "2024-12-22T16:19:32.730838Z",
     "shell.execute_reply": "2024-12-22T16:19:32.729171Z",
     "shell.execute_reply.started": "2024-12-22T16:19:32.548393Z"
    },
    "trusted": true
   },
   "outputs": [
    {
     "name": "stderr",
     "output_type": "stream",
     "text": [
      "Some weights of BertForSequenceClassification were not initialized from the model checkpoint at bert-base-uncased and are newly initialized: ['classifier.bias', 'classifier.weight']\n",
      "You should probably TRAIN this model on a down-stream task to be able to use it for predictions and inference.\n"
     ]
    }
   ],
   "source": [
    "# Загружаем BERT для классификации\n",
    "model_bert = BertForSequenceClassification.from_pretrained('bert-base-uncased', num_labels=3)"
   ]
  },
  {
   "cell_type": "code",
   "execution_count": 20,
   "metadata": {
    "execution": {
     "iopub.execute_input": "2024-12-22T16:19:32.732691Z",
     "iopub.status.busy": "2024-12-22T16:19:32.732220Z",
     "iopub.status.idle": "2024-12-22T16:19:32.744199Z",
     "shell.execute_reply": "2024-12-22T16:19:32.742895Z",
     "shell.execute_reply.started": "2024-12-22T16:19:32.732641Z"
    },
    "trusted": true
   },
   "outputs": [],
   "source": [
    "# Определяем аргументы\n",
    "training_args = TrainingArguments(\n",
    "    output_dir='./results',\n",
    "    num_train_epochs=3,\n",
    "    per_device_train_batch_size=8,\n",
    "    per_device_eval_batch_size=8,\n",
    "    warmup_steps=500,\n",
    "    weight_decay=0.01,\n",
    "    logging_dir='./logs',\n",
    "    logging_steps=10,\n",
    ")"
   ]
  },
  {
   "cell_type": "code",
   "execution_count": 21,
   "metadata": {
    "execution": {
     "iopub.execute_input": "2024-12-22T16:19:32.745468Z",
     "iopub.status.busy": "2024-12-22T16:19:32.745123Z",
     "iopub.status.idle": "2024-12-22T16:19:33.681912Z",
     "shell.execute_reply": "2024-12-22T16:19:33.680626Z",
     "shell.execute_reply.started": "2024-12-22T16:19:32.745433Z"
    },
    "trusted": true
   },
   "outputs": [],
   "source": [
    "trainer_bert = Trainer(\n",
    "    model=model_bert,\n",
    "    args=training_args,\n",
    "    train_dataset=train_dataset,\n",
    "    eval_dataset=val_dataset,\n",
    ")"
   ]
  },
  {
   "cell_type": "code",
   "execution_count": 22,
   "metadata": {
    "execution": {
     "iopub.execute_input": "2024-12-22T16:19:33.683419Z",
     "iopub.status.busy": "2024-12-22T16:19:33.683105Z",
     "iopub.status.idle": "2024-12-22T16:59:04.360925Z",
     "shell.execute_reply": "2024-12-22T16:59:04.357950Z",
     "shell.execute_reply.started": "2024-12-22T16:19:33.683391Z"
    },
    "trusted": true
   },
   "outputs": [
    {
     "name": "stderr",
     "output_type": "stream",
     "text": [
      "  0%|          | 0/363 [00:00<?, ?it/s]C:\\Users\\Vlad_PC_2022\\AppData\\Local\\Temp\\ipykernel_14700\\3716857575.py:8: UserWarning: To copy construct from a tensor, it is recommended to use sourceTensor.clone().detach() or sourceTensor.clone().detach().requires_grad_(True), rather than torch.tensor(sourceTensor).\n",
      "  item = {key:torch.tensor(val[idx], dtype=torch.long)\n",
      "  3%|▎         | 10/363 [00:05<03:14,  1.82it/s]"
     ]
    },
    {
     "name": "stdout",
     "output_type": "stream",
     "text": [
      "{'loss': 1.0975, 'grad_norm': 6.145534992218018, 'learning_rate': 1.0000000000000002e-06, 'epoch': 0.08}\n"
     ]
    },
    {
     "name": "stderr",
     "output_type": "stream",
     "text": [
      "  6%|▌         | 20/363 [00:11<03:04,  1.86it/s]"
     ]
    },
    {
     "name": "stdout",
     "output_type": "stream",
     "text": [
      "{'loss': 1.0846, 'grad_norm': 5.143656253814697, 'learning_rate': 2.0000000000000003e-06, 'epoch': 0.17}\n"
     ]
    },
    {
     "name": "stderr",
     "output_type": "stream",
     "text": [
      "  8%|▊         | 30/363 [00:16<03:07,  1.77it/s]"
     ]
    },
    {
     "name": "stdout",
     "output_type": "stream",
     "text": [
      "{'loss': 1.119, 'grad_norm': 13.750029563903809, 'learning_rate': 3e-06, 'epoch': 0.25}\n"
     ]
    },
    {
     "name": "stderr",
     "output_type": "stream",
     "text": [
      " 11%|█         | 40/363 [00:22<03:01,  1.78it/s]"
     ]
    },
    {
     "name": "stdout",
     "output_type": "stream",
     "text": [
      "{'loss': 1.0908, 'grad_norm': 6.14765739440918, 'learning_rate': 4.000000000000001e-06, 'epoch': 0.33}\n"
     ]
    },
    {
     "name": "stderr",
     "output_type": "stream",
     "text": [
      " 14%|█▍        | 50/363 [00:27<02:54,  1.79it/s]"
     ]
    },
    {
     "name": "stdout",
     "output_type": "stream",
     "text": [
      "{'loss': 1.0547, 'grad_norm': 6.9486799240112305, 'learning_rate': 5e-06, 'epoch': 0.41}\n"
     ]
    },
    {
     "name": "stderr",
     "output_type": "stream",
     "text": [
      " 17%|█▋        | 60/363 [00:33<02:41,  1.87it/s]"
     ]
    },
    {
     "name": "stdout",
     "output_type": "stream",
     "text": [
      "{'loss': 1.1124, 'grad_norm': 6.184359073638916, 'learning_rate': 6e-06, 'epoch': 0.5}\n"
     ]
    },
    {
     "name": "stderr",
     "output_type": "stream",
     "text": [
      " 19%|█▉        | 70/363 [00:38<02:34,  1.89it/s]"
     ]
    },
    {
     "name": "stdout",
     "output_type": "stream",
     "text": [
      "{'loss': 1.0422, 'grad_norm': 9.145195007324219, 'learning_rate': 7.000000000000001e-06, 'epoch': 0.58}\n"
     ]
    },
    {
     "name": "stderr",
     "output_type": "stream",
     "text": [
      " 22%|██▏       | 80/363 [00:44<02:38,  1.78it/s]"
     ]
    },
    {
     "name": "stdout",
     "output_type": "stream",
     "text": [
      "{'loss': 1.02, 'grad_norm': 9.223701477050781, 'learning_rate': 8.000000000000001e-06, 'epoch': 0.66}\n"
     ]
    },
    {
     "name": "stderr",
     "output_type": "stream",
     "text": [
      " 25%|██▍       | 90/363 [00:49<02:35,  1.76it/s]"
     ]
    },
    {
     "name": "stdout",
     "output_type": "stream",
     "text": [
      "{'loss': 1.0345, 'grad_norm': 9.63981819152832, 'learning_rate': 9e-06, 'epoch': 0.74}\n"
     ]
    },
    {
     "name": "stderr",
     "output_type": "stream",
     "text": [
      " 28%|██▊       | 100/363 [00:54<02:15,  1.94it/s]"
     ]
    },
    {
     "name": "stdout",
     "output_type": "stream",
     "text": [
      "{'loss': 0.9753, 'grad_norm': 7.759426116943359, 'learning_rate': 1e-05, 'epoch': 0.83}\n"
     ]
    },
    {
     "name": "stderr",
     "output_type": "stream",
     "text": [
      " 30%|███       | 110/363 [01:00<02:11,  1.93it/s]"
     ]
    },
    {
     "name": "stdout",
     "output_type": "stream",
     "text": [
      "{'loss': 0.9837, 'grad_norm': 11.907332420349121, 'learning_rate': 1.1000000000000001e-05, 'epoch': 0.91}\n"
     ]
    },
    {
     "name": "stderr",
     "output_type": "stream",
     "text": [
      " 33%|███▎      | 120/363 [01:05<02:18,  1.76it/s]"
     ]
    },
    {
     "name": "stdout",
     "output_type": "stream",
     "text": [
      "{'loss': 0.9681, 'grad_norm': 7.428607940673828, 'learning_rate': 1.2e-05, 'epoch': 0.99}\n"
     ]
    },
    {
     "name": "stderr",
     "output_type": "stream",
     "text": [
      " 36%|███▌      | 130/363 [01:11<02:14,  1.73it/s]"
     ]
    },
    {
     "name": "stdout",
     "output_type": "stream",
     "text": [
      "{'loss': 0.932, 'grad_norm': 10.33288288116455, 'learning_rate': 1.3000000000000001e-05, 'epoch': 1.07}\n"
     ]
    },
    {
     "name": "stderr",
     "output_type": "stream",
     "text": [
      " 39%|███▊      | 140/363 [01:16<02:06,  1.77it/s]"
     ]
    },
    {
     "name": "stdout",
     "output_type": "stream",
     "text": [
      "{'loss': 0.8549, 'grad_norm': 11.20372486114502, 'learning_rate': 1.4000000000000001e-05, 'epoch': 1.16}\n"
     ]
    },
    {
     "name": "stderr",
     "output_type": "stream",
     "text": [
      " 41%|████▏     | 150/363 [01:22<02:00,  1.77it/s]"
     ]
    },
    {
     "name": "stdout",
     "output_type": "stream",
     "text": [
      "{'loss': 0.7994, 'grad_norm': 9.025761604309082, 'learning_rate': 1.5e-05, 'epoch': 1.24}\n"
     ]
    },
    {
     "name": "stderr",
     "output_type": "stream",
     "text": [
      " 44%|████▍     | 160/363 [01:28<01:57,  1.73it/s]"
     ]
    },
    {
     "name": "stdout",
     "output_type": "stream",
     "text": [
      "{'loss': 0.8696, 'grad_norm': 9.423662185668945, 'learning_rate': 1.6000000000000003e-05, 'epoch': 1.32}\n"
     ]
    },
    {
     "name": "stderr",
     "output_type": "stream",
     "text": [
      " 47%|████▋     | 170/363 [01:33<01:50,  1.75it/s]"
     ]
    },
    {
     "name": "stdout",
     "output_type": "stream",
     "text": [
      "{'loss': 0.7604, 'grad_norm': 16.464067459106445, 'learning_rate': 1.7000000000000003e-05, 'epoch': 1.4}\n"
     ]
    },
    {
     "name": "stderr",
     "output_type": "stream",
     "text": [
      " 50%|████▉     | 180/363 [01:39<01:45,  1.73it/s]"
     ]
    },
    {
     "name": "stdout",
     "output_type": "stream",
     "text": [
      "{'loss': 0.5637, 'grad_norm': 15.518101692199707, 'learning_rate': 1.8e-05, 'epoch': 1.49}\n"
     ]
    },
    {
     "name": "stderr",
     "output_type": "stream",
     "text": [
      " 52%|█████▏    | 190/363 [01:45<01:36,  1.78it/s]"
     ]
    },
    {
     "name": "stdout",
     "output_type": "stream",
     "text": [
      "{'loss': 0.5887, 'grad_norm': 10.009645462036133, 'learning_rate': 1.9e-05, 'epoch': 1.57}\n"
     ]
    },
    {
     "name": "stderr",
     "output_type": "stream",
     "text": [
      " 55%|█████▌    | 200/363 [01:51<01:30,  1.81it/s]"
     ]
    },
    {
     "name": "stdout",
     "output_type": "stream",
     "text": [
      "{'loss': 0.4777, 'grad_norm': 12.671683311462402, 'learning_rate': 2e-05, 'epoch': 1.65}\n"
     ]
    },
    {
     "name": "stderr",
     "output_type": "stream",
     "text": [
      " 58%|█████▊    | 210/363 [01:56<01:26,  1.77it/s]"
     ]
    },
    {
     "name": "stdout",
     "output_type": "stream",
     "text": [
      "{'loss': 0.5166, 'grad_norm': 8.826823234558105, 'learning_rate': 2.1e-05, 'epoch': 1.74}\n"
     ]
    },
    {
     "name": "stderr",
     "output_type": "stream",
     "text": [
      " 61%|██████    | 220/363 [02:02<01:19,  1.79it/s]"
     ]
    },
    {
     "name": "stdout",
     "output_type": "stream",
     "text": [
      "{'loss': 0.5406, 'grad_norm': 15.755683898925781, 'learning_rate': 2.2000000000000003e-05, 'epoch': 1.82}\n"
     ]
    },
    {
     "name": "stderr",
     "output_type": "stream",
     "text": [
      " 63%|██████▎   | 230/363 [02:07<01:14,  1.80it/s]"
     ]
    },
    {
     "name": "stdout",
     "output_type": "stream",
     "text": [
      "{'loss': 0.6962, 'grad_norm': 23.660381317138672, 'learning_rate': 2.3000000000000003e-05, 'epoch': 1.9}\n"
     ]
    },
    {
     "name": "stderr",
     "output_type": "stream",
     "text": [
      " 66%|██████▌   | 240/363 [02:13<01:08,  1.79it/s]"
     ]
    },
    {
     "name": "stdout",
     "output_type": "stream",
     "text": [
      "{'loss': 0.5946, 'grad_norm': 11.262574195861816, 'learning_rate': 2.4e-05, 'epoch': 1.98}\n"
     ]
    },
    {
     "name": "stderr",
     "output_type": "stream",
     "text": [
      " 69%|██████▉   | 250/363 [02:18<01:02,  1.81it/s]"
     ]
    },
    {
     "name": "stdout",
     "output_type": "stream",
     "text": [
      "{'loss': 0.2882, 'grad_norm': 2.3718719482421875, 'learning_rate': 2.5e-05, 'epoch': 2.07}\n"
     ]
    },
    {
     "name": "stderr",
     "output_type": "stream",
     "text": [
      " 72%|███████▏  | 260/363 [02:24<00:58,  1.76it/s]"
     ]
    },
    {
     "name": "stdout",
     "output_type": "stream",
     "text": [
      "{'loss': 0.4219, 'grad_norm': 1.9727764129638672, 'learning_rate': 2.6000000000000002e-05, 'epoch': 2.15}\n"
     ]
    },
    {
     "name": "stderr",
     "output_type": "stream",
     "text": [
      " 74%|███████▍  | 270/363 [02:30<00:52,  1.77it/s]"
     ]
    },
    {
     "name": "stdout",
     "output_type": "stream",
     "text": [
      "{'loss': 0.7133, 'grad_norm': 17.241193771362305, 'learning_rate': 2.7000000000000002e-05, 'epoch': 2.23}\n"
     ]
    },
    {
     "name": "stderr",
     "output_type": "stream",
     "text": [
      " 77%|███████▋  | 280/363 [02:35<00:45,  1.81it/s]"
     ]
    },
    {
     "name": "stdout",
     "output_type": "stream",
     "text": [
      "{'loss': 0.3852, 'grad_norm': 14.203828811645508, 'learning_rate': 2.8000000000000003e-05, 'epoch': 2.31}\n"
     ]
    },
    {
     "name": "stderr",
     "output_type": "stream",
     "text": [
      " 80%|███████▉  | 290/363 [02:41<00:40,  1.80it/s]"
     ]
    },
    {
     "name": "stdout",
     "output_type": "stream",
     "text": [
      "{'loss': 0.3398, 'grad_norm': 17.747970581054688, 'learning_rate': 2.9e-05, 'epoch': 2.4}\n"
     ]
    },
    {
     "name": "stderr",
     "output_type": "stream",
     "text": [
      " 83%|████████▎ | 300/363 [02:46<00:32,  1.93it/s]"
     ]
    },
    {
     "name": "stdout",
     "output_type": "stream",
     "text": [
      "{'loss': 0.4247, 'grad_norm': 9.772485733032227, 'learning_rate': 3e-05, 'epoch': 2.48}\n"
     ]
    },
    {
     "name": "stderr",
     "output_type": "stream",
     "text": [
      " 85%|████████▌ | 310/363 [02:51<00:26,  1.97it/s]"
     ]
    },
    {
     "name": "stdout",
     "output_type": "stream",
     "text": [
      "{'loss': 0.4962, 'grad_norm': 8.832073211669922, 'learning_rate': 3.1e-05, 'epoch': 2.56}\n"
     ]
    },
    {
     "name": "stderr",
     "output_type": "stream",
     "text": [
      " 88%|████████▊ | 320/363 [02:57<00:24,  1.74it/s]"
     ]
    },
    {
     "name": "stdout",
     "output_type": "stream",
     "text": [
      "{'loss': 0.4121, 'grad_norm': 20.794570922851562, 'learning_rate': 3.2000000000000005e-05, 'epoch': 2.64}\n"
     ]
    },
    {
     "name": "stderr",
     "output_type": "stream",
     "text": [
      " 91%|█████████ | 330/363 [03:02<00:17,  1.85it/s]"
     ]
    },
    {
     "name": "stdout",
     "output_type": "stream",
     "text": [
      "{'loss': 0.4085, 'grad_norm': 2.1142168045043945, 'learning_rate': 3.3e-05, 'epoch': 2.73}\n"
     ]
    },
    {
     "name": "stderr",
     "output_type": "stream",
     "text": [
      " 94%|█████████▎| 340/363 [03:07<00:11,  2.01it/s]"
     ]
    },
    {
     "name": "stdout",
     "output_type": "stream",
     "text": [
      "{'loss': 0.4206, 'grad_norm': 29.27716636657715, 'learning_rate': 3.4000000000000007e-05, 'epoch': 2.81}\n"
     ]
    },
    {
     "name": "stderr",
     "output_type": "stream",
     "text": [
      " 96%|█████████▋| 350/363 [03:12<00:06,  2.05it/s]"
     ]
    },
    {
     "name": "stdout",
     "output_type": "stream",
     "text": [
      "{'loss': 0.5728, 'grad_norm': 19.770185470581055, 'learning_rate': 3.5e-05, 'epoch': 2.89}\n"
     ]
    },
    {
     "name": "stderr",
     "output_type": "stream",
     "text": [
      " 99%|█████████▉| 360/363 [03:17<00:01,  2.05it/s]"
     ]
    },
    {
     "name": "stdout",
     "output_type": "stream",
     "text": [
      "{'loss': 0.4462, 'grad_norm': 18.318340301513672, 'learning_rate': 3.6e-05, 'epoch': 2.98}\n"
     ]
    },
    {
     "name": "stderr",
     "output_type": "stream",
     "text": [
      "100%|██████████| 363/363 [03:19<00:00,  1.82it/s]"
     ]
    },
    {
     "name": "stdout",
     "output_type": "stream",
     "text": [
      "{'train_runtime': 199.9255, 'train_samples_per_second': 14.465, 'train_steps_per_second': 1.816, 'train_loss': 0.7210105742961579, 'epoch': 3.0}\n"
     ]
    },
    {
     "name": "stderr",
     "output_type": "stream",
     "text": [
      "\n"
     ]
    },
    {
     "data": {
      "text/plain": [
       "TrainOutput(global_step=363, training_loss=0.7210105742961579, metrics={'train_runtime': 199.9255, 'train_samples_per_second': 14.465, 'train_steps_per_second': 1.816, 'total_flos': 20806515736272.0, 'train_loss': 0.7210105742961579, 'epoch': 3.0})"
      ]
     },
     "execution_count": 22,
     "metadata": {},
     "output_type": "execute_result"
    }
   ],
   "source": [
    "trainer_bert.train()"
   ]
  },
  {
   "cell_type": "code",
   "execution_count": 23,
   "metadata": {
    "trusted": true
   },
   "outputs": [
    {
     "name": "stderr",
     "output_type": "stream",
     "text": [
      "C:\\Users\\Vlad_PC_2022\\AppData\\Local\\Temp\\ipykernel_14700\\3716857575.py:8: UserWarning: To copy construct from a tensor, it is recommended to use sourceTensor.clone().detach() or sourceTensor.clone().detach().requires_grad_(True), rather than torch.tensor(sourceTensor).\n",
      "  item = {key:torch.tensor(val[idx], dtype=torch.long)\n",
      "100%|██████████| 31/31 [00:01<00:00, 15.98it/s]"
     ]
    },
    {
     "name": "stdout",
     "output_type": "stream",
     "text": [
      "Метрики на валидационном датасете:\n",
      "Accuracy: 0.8713692946058091\n",
      "              precision    recall  f1-score   support\n",
      "\n",
      "           0       0.92      0.81      0.86        69\n",
      "           1       0.84      0.89      0.86        93\n",
      "           2       0.88      0.90      0.89        79\n",
      "\n",
      "    accuracy                           0.87       241\n",
      "   macro avg       0.88      0.87      0.87       241\n",
      "weighted avg       0.87      0.87      0.87       241\n",
      "\n"
     ]
    },
    {
     "name": "stderr",
     "output_type": "stream",
     "text": [
      "\n"
     ]
    }
   ],
   "source": [
    "# Выведем метрики\n",
    "val_predictions = trainer_bert.predict(val_dataset)\n",
    "val_preds = np.argmax(val_predictions.predictions, axis=1)\n",
    "\n",
    "print(\"Метрики на валидационном датасете:\")\n",
    "print(\"Accuracy:\", accuracy_score(y_val, val_preds))\n",
    "print(classification_report(y_val, val_preds))"
   ]
  },
  {
   "cell_type": "code",
   "execution_count": 24,
   "metadata": {},
   "outputs": [
    {
     "name": "stderr",
     "output_type": "stream",
     "text": [
      "C:\\Users\\Vlad_PC_2022\\AppData\\Local\\Temp\\ipykernel_14700\\2778888779.py:19: FutureWarning: \n",
      "\n",
      "Passing `palette` without assigning `hue` is deprecated and will be removed in v0.14.0. Assign the `x` variable to `hue` and set `legend=False` for the same effect.\n",
      "\n",
      "  sns.barplot(x=x, y=precision, palette='Blues')\n",
      "C:\\Users\\Vlad_PC_2022\\AppData\\Local\\Temp\\ipykernel_14700\\2778888779.py:26: FutureWarning: \n",
      "\n",
      "Passing `palette` without assigning `hue` is deprecated and will be removed in v0.14.0. Assign the `x` variable to `hue` and set `legend=False` for the same effect.\n",
      "\n",
      "  sns.barplot(x=x, y=recall, palette='Greens')\n",
      "C:\\Users\\Vlad_PC_2022\\AppData\\Local\\Temp\\ipykernel_14700\\2778888779.py:33: FutureWarning: \n",
      "\n",
      "Passing `palette` without assigning `hue` is deprecated and will be removed in v0.14.0. Assign the `x` variable to `hue` and set `legend=False` for the same effect.\n",
      "\n",
      "  sns.barplot(x=x, y=f1_score, palette='Reds')\n"
     ]
    },
    {
     "data": {
      "image/png": "[encoded data removed]",
      "text/plain": [
       "<Figure size 1200x600 with 3 Axes>"
      ]
     },
     "metadata": {},
     "output_type": "display_data"
    },
    {
     "data": {
      "image/png": "[encoded data removed]",
      "text/plain": [
       "<Figure size 800x600 with 2 Axes>"
      ]
     },
     "metadata": {},
     "output_type": "display_data"
    }
   ],
   "source": [
    "from sklearn.metrics import confusion_matrix\n",
    "\n",
    "report = classification_report(y_val, val_preds, output_dict=True)\n",
    "\n",
    "# Извлекаем метрики из отчета\n",
    "labels = list(report.keys())[:-3]  # Исключаем 'accuracy', 'macro avg', 'weighted avg'\n",
    "precision = [report[label]['precision'] for label in labels]\n",
    "recall = [report[label]['recall'] for label in labels]\n",
    "f1_score = [report[label]['f1-score'] for label in labels]\n",
    "\n",
    "# Визуализация метрик\n",
    "plt.figure(figsize=(12, 6))\n",
    "\n",
    "# Создаем подграфики для Precision, Recall и F1 Score\n",
    "x = np.arange(len(labels))  # метки классов\n",
    "\n",
    "# Precision\n",
    "plt.subplot(1, 3, 1)\n",
    "sns.barplot(x=x, y=precision, palette='Blues')\n",
    "plt.xticks(x, labels)\n",
    "plt.title('Precision по классам')\n",
    "plt.ylim(0, 1)\n",
    "\n",
    "# Recall\n",
    "plt.subplot(1, 3, 2)\n",
    "sns.barplot(x=x, y=recall, palette='Greens')\n",
    "plt.xticks(x, labels)\n",
    "plt.title('Recall по классам')\n",
    "plt.ylim(0, 1)\n",
    "\n",
    "# F1 Score\n",
    "plt.subplot(1, 3, 3)\n",
    "sns.barplot(x=x, y=f1_score, palette='Reds')\n",
    "plt.xticks(x, labels)\n",
    "plt.title('F1 Score по классам')\n",
    "plt.ylim(0, 1)\n",
    "\n",
    "# Отображаем графики\n",
    "plt.tight_layout()\n",
    "plt.show()\n",
    "\n",
    "# Визуализация матрицы ошибок\n",
    "conf_matrix = confusion_matrix(y_val, val_preds)\n",
    "plt.figure(figsize=(8, 6))\n",
    "sns.heatmap(conf_matrix, annot=True, fmt='d', cmap='Blues', xticklabels=labels, yticklabels=labels)\n",
    "plt.title('Матрица ошибок')\n",
    "plt.xlabel('Предсказанные метки')\n",
    "plt.ylabel('Истинные метки')\n",
    "plt.show()"
   ]
  },
  {
   "cell_type": "markdown",
   "metadata": {},
   "source": [
    "# DisCoCat"
   ]
  },
  {
   "cell_type": "code",
   "execution_count": 25,
   "metadata": {},
   "outputs": [],
   "source": [
    "BATCH_SIZE = 10\n",
    "EPOCHS = 30\n",
    "SEED = 2\n",
    "LEARNING_RATE = 0.1"
   ]
  },
  {
   "cell_type": "code",
   "execution_count": 26,
   "metadata": {},
   "outputs": [],
   "source": [
    "import torch\n",
    "import random\n",
    "import numpy as np\n",
    "\n",
    "torch.manual_seed(SEED)\n",
    "random.seed(SEED)\n",
    "np.random.seed(SEED)"
   ]
  },
  {
   "cell_type": "code",
   "execution_count": 27,
   "metadata": {},
   "outputs": [],
   "source": [
    "def read_data(filename):\n",
    "    labels, sentences = [], []\n",
    "    with open(filename) as f:\n",
    "        for line in f:\n",
    "            t = int(line[0])\n",
    "            labels.append([t, 1-t])\n",
    "            sentences.append(line[1:].strip())\n",
    "    return labels, sentences\n",
    "\n",
    "train_labels, train_data = read_data('../data/proceed/cleaned_data_train2.txt')\n",
    "test_labels, test_data = read_data('../data/proceed//cleaned_data_test2.txt')"
   ]
  },
  {
   "cell_type": "code",
   "execution_count": 28,
   "metadata": {},
   "outputs": [
    {
     "data": {
      "text/plain": [
       "'Cryptocurrency market experiences volatility .'"
      ]
     },
     "execution_count": 28,
     "metadata": {},
     "output_type": "execute_result"
    }
   ],
   "source": [
    "train_data[2]"
   ]
  },
  {
   "cell_type": "markdown",
   "metadata": {},
   "source": [
    "# Парсим предложения"
   ]
  },
  {
   "cell_type": "code",
   "execution_count": 29,
   "metadata": {},
   "outputs": [
    {
     "name": "stderr",
     "output_type": "stream",
     "text": [
      "Tagging sentences.\n",
      "Parsing tagged sentences.\n",
      "Turning parse trees to diagrams.\n",
      "Tagging sentences.\n",
      "Parsing tagged sentences.\n",
      "Turning parse trees to diagrams.\n"
     ]
    }
   ],
   "source": [
    "from lambeq import BobcatParser\n",
    "\n",
    "parser = BobcatParser(verbose='text')\n",
    "\n",
    "raw_train_diagrams = parser.sentences2diagrams(train_data)\n",
    "raw_test_diagrams = parser.sentences2diagrams(test_data)"
   ]
  },
  {
   "cell_type": "code",
   "execution_count": 30,
   "metadata": {},
   "outputs": [
    {
     "data": {
      "image/png": "[encoded data removed]",
      "text/plain": [
       "<Figure size 640x480 with 1 Axes>"
      ]
     },
     "metadata": {},
     "output_type": "display_data"
    }
   ],
   "source": [
    "from lambeq import RemoveCupsRewriter\n",
    "\n",
    "remove_cups = RemoveCupsRewriter()\n",
    "\n",
    "train_diagrams = [remove_cups(diagram) for diagram in raw_train_diagrams]\n",
    "test_diagrams = [remove_cups(diagram) for diagram in raw_test_diagrams]\n",
    "\n",
    "train_diagrams[0].draw()"
   ]
  },
  {
   "cell_type": "code",
   "execution_count": 31,
   "metadata": {},
   "outputs": [
    {
     "data": {
      "image/png": "[encoded data removed]",
      "text/plain": [
       "<Figure size 800x800 with 1 Axes>"
      ]
     },
     "metadata": {},
     "output_type": "display_data"
    }
   ],
   "source": [
    "from lambeq import AtomicType, IQPAnsatz\n",
    "\n",
    "# Определяем типы\n",
    "N = AtomicType.NOUN\n",
    "S = AtomicType.SENTENCE\n",
    "P = AtomicType.PREPOSITIONAL_PHRASE\n",
    "\n",
    "# Ковертируем строковые диаграммы в квантовые схемы\n",
    "ansatz = IQPAnsatz({N: 1, S: 1, P: 1}, n_layers=2)\n",
    "\n",
    "train_circuits = [ansatz(diagram) for diagram in train_diagrams]\n",
    "test_circuits = [ansatz(diagram) for diagram in test_diagrams]\n",
    "\n",
    "train_circuits[0].draw(figsize=(8, 8))"
   ]
  },
  {
   "cell_type": "code",
   "execution_count": 32,
   "metadata": {},
   "outputs": [],
   "source": [
    "from lambeq import PennyLaneModel\n",
    "\n",
    "all_circuits = train_circuits + test_circuits\n",
    "\n",
    "model_discocat = PennyLaneModel.from_diagrams(all_circuits)\n",
    "model_discocat.initialise_weights()"
   ]
  },
  {
   "cell_type": "code",
   "execution_count": 33,
   "metadata": {},
   "outputs": [],
   "source": [
    "from lambeq import Dataset\n",
    "\n",
    "train_dataset = Dataset(train_circuits,\n",
    "                        train_labels,\n",
    "                        batch_size=BATCH_SIZE)\n",
    "\n",
    "val_dataset = Dataset(test_circuits, test_labels)"
   ]
  },
  {
   "cell_type": "code",
   "execution_count": 34,
   "metadata": {},
   "outputs": [],
   "source": [
    "def acc(y_hat, y):\n",
    "    return (torch.argmax(y_hat, dim=1) == \n",
    "            torch.argmax(y, dim=1)).sum().item()/len(y)\n",
    "\n",
    "def loss(y_hat, y):\n",
    "    return torch.nn.functional.mse_loss(y_hat, y)"
   ]
  },
  {
   "cell_type": "code",
   "execution_count": 35,
   "metadata": {},
   "outputs": [
    {
     "name": "stderr",
     "output_type": "stream",
     "text": [
      "Epoch 1:   train/loss: 0.8718   valid/loss: 0.9428   train/time: 6.54s   valid/time: 5.33s   train/acc: 0.5403   valid/acc: 0.7820\n",
      "Epoch 2:   train/loss: 0.0023   valid/loss: 0.8650   train/time: 6.51s   valid/time: 5.45s   train/acc: 0.7488   valid/acc: 0.8199\n",
      "Epoch 3:   train/loss: 1.3878   valid/loss: 0.8291   train/time: 6.33s   valid/time: 5.26s   train/acc: 0.7678   valid/acc: 0.8104\n",
      "Epoch 4:   train/loss: 0.0058   valid/loss: 0.7665   train/time: 6.43s   valid/time: 5.45s   train/acc: 0.8057   valid/acc: 0.8199\n",
      "Epoch 5:   train/loss: 0.0002   valid/loss: 0.7041   train/time: 6.60s   valid/time: 5.47s   train/acc: 0.8389   valid/acc: 0.8720\n",
      "Epoch 6:   train/loss: 0.0075   valid/loss: 0.6641   train/time: 6.82s   valid/time: 5.18s   train/acc: 0.8863   valid/acc: 0.9005\n",
      "Epoch 7:   train/loss: 1.0519   valid/loss: 0.6250   train/time: 6.30s   valid/time: 5.63s   train/acc: 0.8673   valid/acc: 0.9242\n",
      "Epoch 8:   train/loss: 1.0022   valid/loss: 0.5787   train/time: 6.56s   valid/time: 5.76s   train/acc: 0.9100   valid/acc: 0.9384\n",
      "Epoch 9:   train/loss: 0.0005   valid/loss: 0.5560   train/time: 6.83s   valid/time: 5.46s   train/acc: 0.9336   valid/acc: 0.9526\n",
      "Epoch 10:  train/loss: 0.0055   valid/loss: 0.5417   train/time: 6.65s   valid/time: 5.68s   train/acc: 0.9526   valid/acc: 0.9621\n",
      "Epoch 11:  train/loss: 1.1176   valid/loss: 0.5433   train/time: 6.82s   valid/time: 5.63s   train/acc: 0.9526   valid/acc: 0.9384\n",
      "Epoch 12:  train/loss: 1.0084   valid/loss: 0.5387   train/time: 6.53s   valid/time: 5.55s   train/acc: 0.9384   valid/acc: 0.9573\n",
      "Epoch 13:  train/loss: 0.0223   valid/loss: 0.5230   train/time: 6.55s   valid/time: 5.33s   train/acc: 0.9526   valid/acc: 0.9716\n",
      "Epoch 14:  train/loss: 1.0859   valid/loss: 0.5167   train/time: 6.48s   valid/time: 5.36s   train/acc: 0.9763   valid/acc: 0.9716\n",
      "Epoch 15:  train/loss: 0.0278   valid/loss: 0.5115   train/time: 6.42s   valid/time: 5.02s   train/acc: 0.9668   valid/acc: 0.9621\n",
      "Epoch 16:  train/loss: 0.0000   valid/loss: 0.5290   train/time: 6.16s   valid/time: 5.31s   train/acc: 0.9621   valid/acc: 0.9526\n",
      "Epoch 17:  train/loss: 0.0002   valid/loss: 0.5161   train/time: 6.53s   valid/time: 5.41s   train/acc: 0.9526   valid/acc: 0.9668\n",
      "Epoch 18:  train/loss: 0.0058   valid/loss: 0.5112   train/time: 6.97s   valid/time: 5.62s   train/acc: 0.9716   valid/acc: 0.9716\n",
      "Epoch 19:  train/loss: 0.0000   valid/loss: 0.5076   train/time: 7.11s   valid/time: 5.61s   train/acc: 0.9716   valid/acc: 0.9763\n",
      "Epoch 20:  train/loss: 0.0038   valid/loss: 0.4982   train/time: 7.16s   valid/time: 6.77s   train/acc: 0.9716   valid/acc: 0.9763\n",
      "Epoch 21:  train/loss: 0.0000   valid/loss: 0.5003   train/time: 9.38s   valid/time: 5.85s   train/acc: 0.9810   valid/acc: 0.9763\n",
      "Epoch 22:  train/loss: 1.0372   valid/loss: 0.4979   train/time: 7.05s   valid/time: 5.98s   train/acc: 0.9716   valid/acc: 0.9763\n",
      "Epoch 23:  train/loss: 1.0213   valid/loss: 0.5118   train/time: 7.04s   valid/time: 5.52s   train/acc: 0.9763   valid/acc: 0.9716\n",
      "Epoch 24:  train/loss: 0.0000   valid/loss: 0.5337   train/time: 7.10s   valid/time: 5.78s   train/acc: 0.9668   valid/acc: 0.9716\n",
      "Epoch 25:  train/loss: 0.0035   valid/loss: 0.5122   train/time: 7.01s   valid/time: 5.52s   train/acc: 0.9763   valid/acc: 0.9763\n",
      "Epoch 26:  train/loss: 0.0014   valid/loss: 0.5038   train/time: 6.97s   valid/time: 5.62s   train/acc: 0.9810   valid/acc: 0.9810\n",
      "Epoch 27:  train/loss: 0.0017   valid/loss: 0.5053   train/time: 7.02s   valid/time: 5.32s   train/acc: 0.9763   valid/acc: 0.9810\n",
      "Epoch 28:  train/loss: 0.0004   valid/loss: 0.5041   train/time: 6.89s   valid/time: 5.81s   train/acc: 0.9763   valid/acc: 0.9763\n",
      "Epoch 29:  train/loss: 0.0000   valid/loss: 0.5011   train/time: 7.12s   valid/time: 5.50s   train/acc: 0.9573   valid/acc: 0.9763\n",
      "Epoch 30:  train/loss: 0.0003   valid/loss: 0.4987   train/time: 7.10s   valid/time: 5.94s   train/acc: 0.9810   valid/acc: 0.9763\n",
      "\n",
      "Training completed!\n",
      "train/time: 3m25s   train/time_per_epoch: 6.83s   train/time_per_step: 0.31s   valid/time: 2m47s   valid/time_per_eval: 5.57s\n"
     ]
    }
   ],
   "source": [
    "from lambeq import PytorchTrainer\n",
    "\n",
    "trainer_discocat = PytorchTrainer(\n",
    "        model=model_discocat,\n",
    "        loss_function=loss,\n",
    "        optimizer=torch.optim.Adam,\n",
    "        learning_rate=LEARNING_RATE,\n",
    "        epochs=EPOCHS,\n",
    "        evaluate_functions={\"acc\": acc},\n",
    "        evaluate_on_train=True,\n",
    "        use_tensorboard=False,\n",
    "        verbose='text',\n",
    "        seed=SEED\n",
    "    )\n",
    "\n",
    "trainer_discocat.fit(train_dataset, val_dataset)"
   ]
  },
  {
   "cell_type": "code",
   "execution_count": 36,
   "metadata": {},
   "outputs": [
    {
     "data": {
      "text/plain": [
       "0.976303317535545"
      ]
     },
     "execution_count": 36,
     "metadata": {},
     "output_type": "execute_result"
    }
   ],
   "source": [
    "def accuracy(circs, labels):\n",
    "    probs = model_discocat(circs)\n",
    "    return (torch.argmax(probs, dim=1) == \n",
    "            torch.argmax(torch.tensor(labels), dim=1)).sum().item()/len(circs)\n",
    "\n",
    "accuracy(test_circuits, test_labels)"
   ]
  },
  {
   "cell_type": "code",
   "execution_count": 37,
   "metadata": {},
   "outputs": [
    {
     "ename": "TypeError",
     "evalue": "argmax(): argument 'input' (position 1) must be Tensor, not list",
     "output_type": "error",
     "traceback": [
      "\u001b[1;31m---------------------------------------------------------------------------\u001b[0m",
      "\u001b[1;31mTypeError\u001b[0m                                 Traceback (most recent call last)",
      "Cell \u001b[1;32mIn[37], line 18\u001b[0m\n\u001b[0;32m     15\u001b[0m ax_tr\u001b[38;5;241m.\u001b[39mplot(range_, trainer_discocat\u001b[38;5;241m.\u001b[39mval_costs, color\u001b[38;5;241m=\u001b[39m\u001b[38;5;28mnext\u001b[39m(colours))\n\u001b[0;32m     16\u001b[0m ax_br\u001b[38;5;241m.\u001b[39mplot(range_, trainer_discocat\u001b[38;5;241m.\u001b[39mval_eval_results[\u001b[38;5;124m'\u001b[39m\u001b[38;5;124macc\u001b[39m\u001b[38;5;124m'\u001b[39m], color\u001b[38;5;241m=\u001b[39m\u001b[38;5;28mnext\u001b[39m(colours))\n\u001b[1;32m---> 18\u001b[0m test_acc \u001b[38;5;241m=\u001b[39m \u001b[43macc\u001b[49m\u001b[43m(\u001b[49m\u001b[43mmodel_discocat\u001b[49m\u001b[43m(\u001b[49m\u001b[43mtest_circuits\u001b[49m\u001b[43m)\u001b[49m\u001b[43m,\u001b[49m\u001b[43m \u001b[49m\u001b[43mtest_labels\u001b[49m\u001b[43m)\u001b[49m\n\u001b[0;32m     19\u001b[0m \u001b[38;5;28mprint\u001b[39m(\u001b[38;5;124m'\u001b[39m\u001b[38;5;124mTest accuracy:\u001b[39m\u001b[38;5;124m'\u001b[39m, test_acc)\n",
      "Cell \u001b[1;32mIn[34], line 3\u001b[0m, in \u001b[0;36macc\u001b[1;34m(y_hat, y)\u001b[0m\n\u001b[0;32m      1\u001b[0m \u001b[38;5;28;01mdef\u001b[39;00m \u001b[38;5;21macc\u001b[39m(y_hat, y):\n\u001b[0;32m      2\u001b[0m     \u001b[38;5;28;01mreturn\u001b[39;00m (torch\u001b[38;5;241m.\u001b[39margmax(y_hat, dim\u001b[38;5;241m=\u001b[39m\u001b[38;5;241m1\u001b[39m) \u001b[38;5;241m==\u001b[39m \n\u001b[1;32m----> 3\u001b[0m             \u001b[43mtorch\u001b[49m\u001b[38;5;241;43m.\u001b[39;49m\u001b[43margmax\u001b[49m\u001b[43m(\u001b[49m\u001b[43my\u001b[49m\u001b[43m,\u001b[49m\u001b[43m \u001b[49m\u001b[43mdim\u001b[49m\u001b[38;5;241;43m=\u001b[39;49m\u001b[38;5;241;43m1\u001b[39;49m\u001b[43m)\u001b[49m)\u001b[38;5;241m.\u001b[39msum()\u001b[38;5;241m.\u001b[39mitem()\u001b[38;5;241m/\u001b[39m\u001b[38;5;28mlen\u001b[39m(y)\n",
      "\u001b[1;31mTypeError\u001b[0m: argmax(): argument 'input' (position 1) must be Tensor, not list"
     ]
    },
    {
     "data": {
      "image/png": "[encoded data removed]",
      "text/plain": [
       "<Figure size 1000x600 with 4 Axes>"
      ]
     },
     "metadata": {},
     "output_type": "display_data"
    }
   ],
   "source": [
    "import matplotlib.pyplot as plt\n",
    "\n",
    "fig, ((ax_tl, ax_tr), (ax_bl, ax_br)) = plt.subplots(2, 2, sharex=True, sharey='row', figsize=(10, 6))\n",
    "ax_tl.set_title('Training set')\n",
    "ax_tr.set_title('Development set')\n",
    "ax_bl.set_xlabel('Iterations')\n",
    "ax_br.set_xlabel('Iterations')\n",
    "ax_bl.set_ylabel('Accuracy')\n",
    "ax_tl.set_ylabel('Loss')\n",
    "\n",
    "colours = iter(plt.rcParams['axes.prop_cycle'].by_key()['color'])\n",
    "range_ = np.arange(1, trainer_discocat.epochs + 1)\n",
    "ax_tl.plot(range_, trainer_discocat.train_epoch_costs, color=next(colours))\n",
    "ax_bl.plot(range_, trainer_discocat.train_eval_results['acc'], color=next(colours))\n",
    "ax_tr.plot(range_, trainer_discocat.val_costs, color=next(colours))\n",
    "ax_br.plot(range_, trainer_discocat.val_eval_results['acc'], color=next(colours))\n",
    "\n",
    "test_acc = acc(model_discocat(test_circuits), test_labels)\n",
    "print('Test accuracy:', test_acc)"
   ]
  },
  {
   "cell_type": "markdown",
   "metadata": {},
   "source": [
    "# Ансамбль"
   ]
  },
  {
   "cell_type": "code",
   "execution_count": 38,
   "metadata": {},
   "outputs": [],
   "source": [
    "import torch\n",
    "from torch.nn.functional import softmax\n",
    "\n",
    "# Убедитесь, что модель находится в режиме eval\n",
    "model_bert.eval()\n",
    "\n",
    "# Передача данных через модель\n",
    "with torch.no_grad():\n",
    "    outputs = model_bert(**val_encodings)  # X должен быть токенизированным входом (input_ids, attention_mask, etc.)\n",
    "    logits = outputs.logits  # Логиты из модели\n",
    "\n",
    "# Преобразование логитов в вероятности\n",
    "probs = softmax(logits, dim=1).cpu().numpy()  # Вероятности классов"
   ]
  },
  {
   "cell_type": "code",
   "execution_count": 39,
   "metadata": {},
   "outputs": [
    {
     "name": "stdout",
     "output_type": "stream",
     "text": [
      "[[0.98717695 0.00922083 0.00360217]\n",
      " [0.00408654 0.06396367 0.9319498 ]\n",
      " [0.05572457 0.9233618  0.02091356]\n",
      " [0.00343578 0.02140744 0.9751568 ]\n",
      " [0.03332556 0.95489484 0.01177956]\n",
      " [0.05612822 0.921971   0.02190077]\n",
      " [0.9681723  0.02283124 0.00899649]\n",
      " [0.9640025  0.02835726 0.00764027]\n",
      " [0.04057081 0.94436234 0.01506687]\n",
      " [0.02950413 0.9519498  0.0185461 ]\n",
      " [0.00484669 0.00860219 0.98655117]\n",
      " [0.03620958 0.94180954 0.02198093]\n",
      " [0.02387627 0.9576311  0.0184926 ]\n",
      " [0.87141067 0.11658286 0.01200649]\n",
      " [0.03314756 0.9539477  0.01290479]\n",
      " [0.00359184 0.02995663 0.9664515 ]\n",
      " [0.00827308 0.9332572  0.05846967]\n",
      " [0.40559506 0.58385265 0.01055232]\n",
      " [0.00757032 0.02397547 0.9684542 ]\n",
      " [0.01782241 0.37294266 0.6092349 ]\n",
      " [0.9795324  0.01592396 0.0045436 ]\n",
      " [0.03332556 0.95489484 0.01177956]\n",
      " [0.02197928 0.9293901  0.04863073]\n",
      " [0.5059402  0.47239813 0.02166172]\n",
      " [0.00460146 0.01436623 0.9810323 ]\n",
      " [0.00310605 0.04655056 0.9503434 ]\n",
      " [0.9867748  0.00999503 0.00323018]\n",
      " [0.9889177  0.00732544 0.00375691]\n",
      " [0.02627562 0.954284   0.01944035]\n",
      " [0.00313498 0.01270102 0.98416394]\n",
      " [0.00395803 0.07983702 0.916205  ]\n",
      " [0.00505685 0.05692799 0.9380152 ]\n",
      " [0.00462349 0.02051997 0.9748565 ]\n",
      " [0.02737863 0.95829314 0.01432829]\n",
      " [0.9800632  0.01460184 0.00533491]\n",
      " [0.03424872 0.9500614  0.01568988]\n",
      " [0.00688953 0.14432295 0.84878755]\n",
      " [0.22822471 0.74424165 0.02753366]\n",
      " [0.8995312  0.09119785 0.00927084]\n",
      " [0.02787231 0.9583317  0.01379601]\n",
      " [0.03301758 0.9483362  0.01864634]\n",
      " [0.03424872 0.9500614  0.01568988]\n",
      " [0.02627562 0.954284   0.01944035]\n",
      " [0.00420412 0.01255407 0.9832418 ]\n",
      " [0.07114056 0.9139309  0.01492856]\n",
      " [0.00533054 0.01788213 0.9767874 ]\n",
      " [0.04623886 0.93657726 0.0171838 ]\n",
      " [0.19049226 0.7958328  0.0136749 ]\n",
      " [0.03027862 0.95583516 0.01388633]\n",
      " [0.16563095 0.27856603 0.55580306]\n",
      " [0.3270763  0.61630756 0.05661619]\n",
      " [0.03452623 0.9496474  0.01582633]\n",
      " [0.01812634 0.96978027 0.01209337]\n",
      " [0.05970293 0.9276538  0.01264333]\n",
      " [0.00602052 0.02877683 0.9652026 ]\n",
      " [0.00425788 0.01467074 0.9810714 ]\n",
      " [0.00398829 0.03115338 0.96485835]\n",
      " [0.00274861 0.04019482 0.95705664]\n",
      " [0.01838139 0.9649647  0.01665387]\n",
      " [0.0038404  0.01156981 0.9845898 ]\n",
      " [0.9877484  0.00902339 0.0032282 ]\n",
      " [0.9775689  0.01758202 0.00484904]\n",
      " [0.8644242  0.12109493 0.01448087]\n",
      " [0.00439387 0.01796241 0.97764367]\n",
      " [0.9557725  0.0394596  0.00476787]\n",
      " [0.40559506 0.58385265 0.01055232]\n",
      " [0.11126502 0.8496338  0.03910118]\n",
      " [0.05612822 0.921971   0.02190077]\n",
      " [0.9161086  0.06225439 0.02163697]\n",
      " [0.00348384 0.01849504 0.9780211 ]\n",
      " [0.00380674 0.01408269 0.98211056]\n",
      " [0.01276335 0.9295105  0.05772623]\n",
      " [0.00427435 0.03927721 0.9564485 ]\n",
      " [0.0038836  0.05276139 0.943355  ]\n",
      " [0.350123   0.55274475 0.09713227]\n",
      " [0.04305949 0.94417864 0.01276197]\n",
      " [0.98692685 0.0076335  0.00543961]\n",
      " [0.01967508 0.9608228  0.01950209]\n",
      " [0.02993151 0.94520795 0.02486051]\n",
      " [0.00254876 0.02332861 0.9741226 ]\n",
      " [0.0037933  0.02169608 0.9745106 ]\n",
      " [0.00399404 0.01343411 0.98257184]\n",
      " [0.9532811  0.04212366 0.00459525]\n",
      " [0.00384981 0.01752228 0.978628  ]\n",
      " [0.98275924 0.01043365 0.00680708]\n",
      " [0.00570572 0.11311162 0.8811827 ]\n",
      " [0.8247591  0.16695076 0.00829004]\n",
      " [0.9866664  0.00679736 0.00653624]\n",
      " [0.12401786 0.8605072  0.01547488]\n",
      " [0.9850643  0.01045821 0.0044774 ]\n",
      " [0.8644029  0.09909736 0.03649982]\n",
      " [0.00420483 0.02669425 0.9691009 ]\n",
      " [0.07239645 0.904341   0.02326256]\n",
      " [0.06131353 0.88883924 0.04984729]\n",
      " [0.9870705  0.00979712 0.00313233]\n",
      " [0.04742687 0.93719023 0.01538287]\n",
      " [0.02664184 0.95610565 0.01725249]\n",
      " [0.98727953 0.00847939 0.00424107]\n",
      " [0.00388993 0.00738653 0.9887235 ]\n",
      " [0.02670884 0.95922977 0.01406138]\n",
      " [0.98910207 0.00673328 0.00416473]\n",
      " [0.04623886 0.93657726 0.0171838 ]\n",
      " [0.00413339 0.01500383 0.98086274]\n",
      " [0.00271456 0.01233437 0.98495114]\n",
      " [0.03202898 0.94049346 0.02747759]\n",
      " [0.01121186 0.9451123  0.04367587]\n",
      " [0.00499375 0.03086142 0.9641449 ]\n",
      " [0.08595829 0.90243644 0.01160532]\n",
      " [0.9834593  0.01212764 0.00441311]\n",
      " [0.02192762 0.96120465 0.01686778]\n",
      " [0.9727975  0.02099885 0.00620363]\n",
      " [0.022771   0.9313803  0.04584875]\n",
      " [0.02300826 0.96312314 0.01386862]\n",
      " [0.8059179  0.17101587 0.02306619]\n",
      " [0.00645124 0.01163583 0.981913  ]\n",
      " [0.9706185  0.02558887 0.00379266]\n",
      " [0.01682475 0.96987444 0.01330078]\n",
      " [0.98083717 0.01505515 0.00410772]\n",
      " [0.02787231 0.9583317  0.01379601]\n",
      " [0.9438726  0.05071649 0.00541094]\n",
      " [0.9829485  0.01218126 0.00487032]\n",
      " [0.03987512 0.5100867  0.45003814]\n",
      " [0.98555285 0.01131522 0.00313192]\n",
      " [0.00253822 0.01614769 0.98131406]\n",
      " [0.01065372 0.01815414 0.9711921 ]\n",
      " [0.00548958 0.04062191 0.9538885 ]\n",
      " [0.0232257  0.94324905 0.03352532]\n",
      " [0.02894427 0.9530951  0.01796075]\n",
      " [0.00879902 0.05668352 0.93451744]\n",
      " [0.00332606 0.01829835 0.9783756 ]\n",
      " [0.05862907 0.92209584 0.01927512]\n",
      " [0.8799989  0.1073986  0.01260249]\n",
      " [0.03620958 0.94180954 0.02198093]\n",
      " [0.00379351 0.03515593 0.96105057]\n",
      " [0.01961279 0.96301216 0.01737513]\n",
      " [0.00791487 0.01668349 0.97540164]\n",
      " [0.00690859 0.03800527 0.9550862 ]\n",
      " [0.00288961 0.01540496 0.9817054 ]\n",
      " [0.02760977 0.9561955  0.0161947 ]\n",
      " [0.00393064 0.03428232 0.961787  ]\n",
      " [0.01682475 0.96987444 0.01330078]\n",
      " [0.91781723 0.07623792 0.00594488]\n",
      " [0.00567374 0.0376448  0.9566815 ]\n",
      " [0.03202898 0.94049346 0.02747759]\n",
      " [0.00505763 0.01049436 0.98444796]\n",
      " [0.00411245 0.02064282 0.9752447 ]\n",
      " [0.97920555 0.01055208 0.01024234]\n",
      " [0.9787179  0.01130211 0.0099799 ]\n",
      " [0.04270916 0.9354373  0.02185351]\n",
      " [0.00468412 0.0091475  0.98616844]\n",
      " [0.25620687 0.7350448  0.00874829]\n",
      " [0.00309123 0.01530586 0.98160297]\n",
      " [0.00449791 0.03467568 0.9608264 ]\n",
      " [0.00517264 0.01414475 0.9806826 ]\n",
      " [0.03452623 0.9496474  0.01582633]\n",
      " [0.00438633 0.01820584 0.9774079 ]\n",
      " [0.03598653 0.94684935 0.01716411]\n",
      " [0.02894427 0.9530951  0.01796075]\n",
      " [0.02683026 0.95233417 0.02083549]\n",
      " [0.00408221 0.02457362 0.9713442 ]\n",
      " [0.7370564  0.24242015 0.02052345]\n",
      " [0.01682475 0.96987444 0.01330078]\n",
      " [0.0232951  0.9517612  0.02494367]\n",
      " [0.06229591 0.918883   0.01882102]\n",
      " [0.08181294 0.90373075 0.01445629]\n",
      " [0.9667017  0.02719961 0.00609868]\n",
      " [0.01842106 0.88417673 0.09740229]\n",
      " [0.006913   0.1605738  0.8325132 ]\n",
      " [0.9541338  0.03995762 0.00590859]\n",
      " [0.00619074 0.01079408 0.9830152 ]\n",
      " [0.13144463 0.82317126 0.04538412]\n",
      " [0.9831282  0.01221571 0.00465613]\n",
      " [0.00431564 0.00777515 0.98790926]\n",
      " [0.00271064 0.0133491  0.98394024]\n",
      " [0.9492645  0.03344811 0.01728743]\n",
      " [0.022771   0.9313803  0.04584875]\n",
      " [0.98930943 0.00717861 0.00351201]\n",
      " [0.00463645 0.02409222 0.9712713 ]\n",
      " [0.9793403  0.0102792  0.01038053]\n",
      " [0.02192762 0.96120465 0.01686778]\n",
      " [0.00315055 0.02184071 0.9750088 ]\n",
      " [0.9851954  0.010887   0.0039176 ]\n",
      " [0.08267464 0.9059786  0.01134686]\n",
      " [0.02837942 0.95290005 0.01872045]\n",
      " [0.9438726  0.05071649 0.00541094]\n",
      " [0.09308809 0.42872524 0.47818667]\n",
      " [0.9881704  0.0086482  0.00318135]\n",
      " [0.01989963 0.9655356  0.0145647 ]\n",
      " [0.00354887 0.03441621 0.96203494]\n",
      " [0.9869927  0.00978418 0.00322309]\n",
      " [0.05326742 0.91912526 0.02760733]\n",
      " [0.003316   0.03193927 0.96474475]\n",
      " [0.10357434 0.87885845 0.01756724]\n",
      " [0.00496625 0.02463407 0.9703996 ]\n",
      " [0.97521067 0.01349834 0.0112909 ]\n",
      " [0.9837605  0.01303729 0.00320224]\n",
      " [0.08635425 0.9036267  0.01001898]\n",
      " [0.9886572  0.00745754 0.00388523]\n",
      " [0.00448313 0.00858483 0.9869321 ]\n",
      " [0.00934188 0.1555131  0.83514506]\n",
      " [0.01770262 0.9662428  0.01605462]\n",
      " [0.00453634 0.01029629 0.9851673 ]\n",
      " [0.02859321 0.9555125  0.0158942 ]\n",
      " [0.9882537  0.00791711 0.00382914]\n",
      " [0.00311304 0.013607   0.98327994]\n",
      " [0.03077288 0.95735174 0.01187546]\n",
      " [0.11126502 0.8496338  0.03910118]\n",
      " [0.02382769 0.9563942  0.01977806]\n",
      " [0.9592109  0.03225727 0.00853193]\n",
      " [0.04681721 0.94083184 0.01235089]\n",
      " [0.00381604 0.01140091 0.984783  ]\n",
      " [0.04742687 0.93719023 0.01538287]\n",
      " [0.9568311  0.03681946 0.00634943]\n",
      " [0.00752141 0.03849057 0.95398796]\n",
      " [0.9871705  0.00916392 0.00366545]\n",
      " [0.01467991 0.8169221  0.168398  ]\n",
      " [0.00306559 0.01275456 0.98417985]\n",
      " [0.00560099 0.0508524  0.94354665]\n",
      " [0.9879765  0.00778844 0.00423505]\n",
      " [0.00249065 0.01298669 0.9845227 ]\n",
      " [0.02637012 0.9343434  0.03928649]\n",
      " [0.9828855  0.01271928 0.00439522]\n",
      " [0.0064131  0.02090249 0.9726844 ]\n",
      " [0.01989963 0.9655356  0.0145647 ]\n",
      " [0.98927045 0.00715772 0.0035717 ]\n",
      " [0.00436679 0.00711863 0.9885146 ]\n",
      " [0.00262437 0.02226172 0.975114  ]\n",
      " [0.0326218  0.9508172  0.01656091]\n",
      " [0.9857654  0.00996213 0.00427248]\n",
      " [0.02683026 0.95233417 0.02083549]\n",
      " [0.97979957 0.01471057 0.00548989]\n",
      " [0.00521761 0.01896619 0.9758162 ]\n",
      " [0.02482898 0.9555414  0.01962966]\n",
      " [0.07208727 0.9164976  0.01141522]\n",
      " [0.19460005 0.79416436 0.01123556]\n",
      " [0.02297446 0.96319425 0.01383136]\n",
      " [0.0067785  0.10648391 0.88673764]\n",
      " [0.02760977 0.9561955  0.0161947 ]\n",
      " [0.98070866 0.01221294 0.00707839]\n",
      " [0.0048135  0.02459951 0.970587  ]\n",
      " [0.01785407 0.9460403  0.03610568]]\n"
     ]
    }
   ],
   "source": [
    "print(probs)"
   ]
  },
  {
   "cell_type": "code",
   "execution_count": 40,
   "metadata": {},
   "outputs": [],
   "source": [
    "def sigmoid(x):\n",
    "    return 1 / (1 + np.exp(-x))"
   ]
  },
  {
   "cell_type": "code",
   "execution_count": 41,
   "metadata": {},
   "outputs": [],
   "source": [
    "predicted = model_discocat(test_circuits)"
   ]
  },
  {
   "cell_type": "code",
   "execution_count": 42,
   "metadata": {},
   "outputs": [
    {
     "name": "stdout",
     "output_type": "stream",
     "text": [
      "tensor([[9.9244e-01, 7.5599e-03],\n",
      "        [9.8969e-01, 1.0308e-02],\n",
      "        [3.3412e-03, 9.9666e-01],\n",
      "        [9.8671e-01, 1.3291e-02],\n",
      "        [9.9859e-01, 1.4108e-03],\n",
      "        [3.7292e-02, 9.6271e-01],\n",
      "        [9.9995e-01, 4.7820e-05],\n",
      "        [9.9082e-01, 9.1826e-03],\n",
      "        [9.9647e-01, 3.5347e-03],\n",
      "        [9.9565e-01, 4.3481e-03],\n",
      "        [9.9958e-01, 4.2362e-04],\n",
      "        [9.9997e-01, 2.7364e-05],\n",
      "        [9.9834e-01, 1.6598e-03],\n",
      "        [9.8533e-01, 1.4667e-02],\n",
      "        [9.2741e-01, 7.2587e-02],\n",
      "        [6.7749e-03, 9.9323e-01],\n",
      "        [9.9050e-01, 9.4984e-03],\n",
      "        [9.9916e-01, 8.3592e-04],\n",
      "        [1.2039e-03, 9.9880e-01],\n",
      "        [1.0263e-02, 9.8974e-01],\n",
      "        [9.8370e-01, 1.6304e-02],\n",
      "        [5.5590e-02, 9.4441e-01],\n",
      "        [1.7790e-01, 8.2210e-01],\n",
      "        [1.0770e-02, 9.8923e-01],\n",
      "        [9.9995e-01, 4.7305e-05],\n",
      "        [9.4816e-01, 5.1837e-02],\n",
      "        [6.7654e-02, 9.3235e-01],\n",
      "        [9.6463e-01, 3.5372e-02],\n",
      "        [9.9976e-01, 2.4014e-04],\n",
      "        [4.1147e-01, 5.8853e-01],\n",
      "        [8.5571e-01, 1.4429e-01],\n",
      "        [2.8437e-02, 9.7156e-01],\n",
      "        [1.7137e-02, 9.8286e-01],\n",
      "        [2.1899e-02, 9.7810e-01],\n",
      "        [9.6327e-01, 3.6730e-02],\n",
      "        [9.9832e-01, 1.6796e-03],\n",
      "        [1.6965e-01, 8.3035e-01],\n",
      "        [8.0753e-01, 1.9247e-01],\n",
      "        [9.9196e-01, 8.0395e-03],\n",
      "        [9.6480e-01, 3.5202e-02],\n",
      "        [9.9797e-01, 2.0341e-03],\n",
      "        [6.1612e-02, 9.3839e-01],\n",
      "        [9.4945e-01, 5.0550e-02],\n",
      "        [8.8489e-03, 9.9115e-01],\n",
      "        [2.3004e-02, 9.7700e-01],\n",
      "        [9.9281e-01, 7.1881e-03],\n",
      "        [1.9309e-04, 9.9981e-01],\n",
      "        [4.1536e-02, 9.5846e-01],\n",
      "        [3.6439e-02, 9.6356e-01],\n",
      "        [9.8548e-01, 1.4521e-02],\n",
      "        [1.0265e-01, 8.9735e-01],\n",
      "        [9.8306e-01, 1.6943e-02],\n",
      "        [9.9942e-01, 5.7612e-04],\n",
      "        [9.6671e-01, 3.3295e-02],\n",
      "        [9.9266e-01, 7.3432e-03],\n",
      "        [9.9830e-01, 1.6978e-03],\n",
      "        [9.9989e-01, 1.0870e-04],\n",
      "        [9.9128e-01, 8.7243e-03],\n",
      "        [7.9556e-02, 9.2044e-01],\n",
      "        [6.4665e-02, 9.3533e-01],\n",
      "        [9.8486e-01, 1.5144e-02],\n",
      "        [9.9931e-01, 6.8915e-04],\n",
      "        [9.9368e-01, 6.3160e-03],\n",
      "        [1.3682e-01, 8.6318e-01],\n",
      "        [9.9449e-01, 5.5119e-03],\n",
      "        [9.7505e-01, 2.4946e-02],\n",
      "        [1.1069e-02, 9.8893e-01],\n",
      "        [9.9764e-01, 2.3568e-03],\n",
      "        [9.9955e-01, 4.4515e-04],\n",
      "        [9.2892e-01, 7.1082e-02],\n",
      "        [8.8882e-03, 9.9111e-01],\n",
      "        [9.8308e-01, 1.6919e-02],\n",
      "        [2.7860e-01, 7.2140e-01],\n",
      "        [9.7191e-01, 2.8095e-02],\n",
      "        [9.9931e-01, 6.9075e-04],\n",
      "        [9.9836e-01, 1.6423e-03],\n",
      "        [9.2332e-01, 7.6678e-02],\n",
      "        [8.3045e-01, 1.6955e-01],\n",
      "        [9.9876e-01, 1.2405e-03],\n",
      "        [5.2465e-02, 9.4753e-01],\n",
      "        [1.7867e-02, 9.8213e-01],\n",
      "        [9.9881e-01, 1.1868e-03],\n",
      "        [9.8887e-01, 1.1126e-02],\n",
      "        [9.9879e-01, 1.2088e-03],\n",
      "        [9.8637e-01, 1.3631e-02],\n",
      "        [6.4259e-01, 3.5741e-01],\n",
      "        [1.7015e-02, 9.8299e-01],\n",
      "        [9.9826e-01, 1.7430e-03],\n",
      "        [9.9717e-01, 2.8273e-03],\n",
      "        [9.3714e-01, 6.2860e-02],\n",
      "        [9.9868e-01, 1.3166e-03],\n",
      "        [9.9988e-01, 1.1624e-04],\n",
      "        [4.1144e-03, 9.9589e-01],\n",
      "        [9.9615e-01, 3.8474e-03],\n",
      "        [1.7020e-03, 9.9830e-01],\n",
      "        [3.4470e-02, 9.6553e-01],\n",
      "        [9.9822e-01, 1.7752e-03],\n",
      "        [9.8188e-01, 1.8120e-02],\n",
      "        [9.6462e-01, 3.5384e-02],\n",
      "        [9.6433e-01, 3.5670e-02],\n",
      "        [2.8582e-02, 9.7142e-01],\n",
      "        [9.9983e-01, 1.7057e-04],\n",
      "        [9.9995e-01, 5.3980e-05],\n",
      "        [8.4689e-02, 9.1531e-01],\n",
      "        [9.9827e-01, 1.7278e-03],\n",
      "        [3.6040e-04, 9.9964e-01],\n",
      "        [9.9975e-01, 2.4575e-04],\n",
      "        [9.9792e-01, 2.0767e-03],\n",
      "        [8.5296e-02, 9.1470e-01],\n",
      "        [9.9501e-01, 4.9934e-03],\n",
      "        [1.3739e-01, 8.6261e-01],\n",
      "        [1.1416e-02, 9.8858e-01],\n",
      "        [9.7028e-01, 2.9715e-02],\n",
      "        [9.5823e-01, 4.1772e-02],\n",
      "        [3.2453e-03, 9.9675e-01],\n",
      "        [1.0070e-01, 8.9930e-01],\n",
      "        [9.8366e-01, 1.6344e-02],\n",
      "        [3.1467e-02, 9.6853e-01],\n",
      "        [9.8553e-01, 1.4467e-02],\n",
      "        [9.9500e-01, 5.0005e-03],\n",
      "        [9.9993e-01, 7.1687e-05],\n",
      "        [9.9827e-01, 1.7278e-03],\n",
      "        [9.6433e-01, 3.5670e-02],\n",
      "        [9.7618e-01, 2.3818e-02],\n",
      "        [9.9906e-01, 9.3579e-04],\n",
      "        [9.3265e-01, 6.7346e-02],\n",
      "        [9.7998e-01, 2.0016e-02],\n",
      "        [9.9994e-01, 5.7505e-05],\n",
      "        [9.9995e-01, 5.1193e-05],\n",
      "        [9.9830e-01, 1.7036e-03],\n",
      "        [7.5556e-02, 9.2444e-01],\n",
      "        [9.2759e-02, 9.0724e-01],\n",
      "        [8.7079e-01, 1.2921e-01],\n",
      "        [1.6541e-02, 9.8346e-01],\n",
      "        [2.1054e-04, 9.9979e-01],\n",
      "        [9.9445e-01, 5.5524e-03],\n",
      "        [9.5477e-01, 4.5233e-02],\n",
      "        [9.8632e-01, 1.3682e-02],\n",
      "        [5.7670e-02, 9.4233e-01],\n",
      "        [9.9452e-01, 5.4794e-03],\n",
      "        [9.9937e-01, 6.2796e-04],\n",
      "        [9.9916e-01, 8.3592e-04],\n",
      "        [9.6667e-01, 3.3327e-02],\n",
      "        [2.4292e-02, 9.7571e-01],\n",
      "        [9.9914e-01, 8.6472e-04],\n",
      "        [9.9852e-01, 1.4779e-03],\n",
      "        [9.9904e-01, 9.5730e-04],\n",
      "        [4.7481e-02, 9.5252e-01],\n",
      "        [9.9805e-01, 1.9479e-03],\n",
      "        [2.4507e-02, 9.7549e-01],\n",
      "        [9.8882e-01, 1.1183e-02],\n",
      "        [1.0726e-02, 9.8927e-01],\n",
      "        [9.9930e-01, 7.0493e-04],\n",
      "        [7.4230e-03, 9.9258e-01],\n",
      "        [9.9407e-01, 5.9261e-03],\n",
      "        [9.9125e-01, 8.7479e-03],\n",
      "        [4.8471e-02, 9.5153e-01],\n",
      "        [1.6786e-02, 9.8321e-01],\n",
      "        [9.9996e-01, 4.4373e-05],\n",
      "        [1.0319e-01, 8.9681e-01],\n",
      "        [9.9148e-01, 8.5212e-03],\n",
      "        [9.8887e-01, 1.1126e-02],\n",
      "        [1.9274e-02, 9.8073e-01],\n",
      "        [9.9827e-01, 1.7278e-03],\n",
      "        [9.1902e-01, 8.0978e-02],\n",
      "        [9.8648e-01, 1.3518e-02],\n",
      "        [9.9982e-01, 1.7983e-04],\n",
      "        [9.9994e-01, 5.6165e-05],\n",
      "        [1.4138e-02, 9.8586e-01],\n",
      "        [9.9340e-01, 6.6021e-03],\n",
      "        [9.6654e-01, 3.3464e-02],\n",
      "        [9.9691e-01, 3.0910e-03],\n",
      "        [9.6468e-01, 3.5325e-02],\n",
      "        [9.9953e-01, 4.7401e-04],\n",
      "        [7.8668e-02, 9.2133e-01],\n",
      "        [9.8244e-01, 1.7560e-02],\n",
      "        [9.8969e-01, 1.0308e-02],\n",
      "        [7.7172e-02, 9.2283e-01],\n",
      "        [9.9819e-01, 1.8108e-03],\n",
      "        [5.4529e-02, 9.4547e-01],\n",
      "        [9.8198e-01, 1.8025e-02],\n",
      "        [9.9324e-01, 6.7642e-03],\n",
      "        [9.2892e-01, 7.1082e-02],\n",
      "        [9.9677e-01, 3.2302e-03],\n",
      "        [6.0162e-03, 9.9398e-01],\n",
      "        [1.2365e-04, 9.9988e-01],\n",
      "        [9.9489e-01, 5.1144e-03],\n",
      "        [9.9909e-01, 9.1389e-04],\n",
      "        [9.8427e-03, 9.9016e-01],\n",
      "        [6.6841e-02, 9.3316e-01],\n",
      "        [9.9938e-01, 6.1655e-04],\n",
      "        [1.9866e-02, 9.8013e-01],\n",
      "        [9.9663e-01, 3.3744e-03],\n",
      "        [9.7021e-01, 2.9791e-02],\n",
      "        [9.9425e-01, 5.7539e-03],\n",
      "        [1.6887e-01, 8.3113e-01],\n",
      "        [9.7526e-01, 2.4740e-02],\n",
      "        [6.6669e-03, 9.9333e-01],\n",
      "        [9.7507e-01, 2.4933e-02],\n",
      "        [9.9933e-01, 6.7474e-04],\n",
      "        [1.6824e-02, 9.8318e-01],\n",
      "        [9.9800e-01, 2.0024e-03],\n",
      "        [9.7938e-01, 2.0624e-02],\n",
      "        [9.8332e-01, 1.6680e-02],\n",
      "        [2.6641e-02, 9.7336e-01],\n",
      "        [9.9858e-01, 1.4249e-03],\n",
      "        [9.7671e-01, 2.3294e-02],\n",
      "        [1.4856e-01, 8.5144e-01],\n",
      "        [9.8421e-01, 1.5787e-02],\n",
      "        [9.7191e-01, 2.8095e-02],\n",
      "        [9.9050e-01, 9.4984e-03]], grad_fn=<ToCopyBackward0>)\n"
     ]
    }
   ],
   "source": [
    "print(predicted)"
   ]
  },
  {
   "cell_type": "code",
   "execution_count": 43,
   "metadata": {},
   "outputs": [
    {
     "name": "stderr",
     "output_type": "stream",
     "text": [
      "C:\\Users\\Vlad_PC_2022\\AppData\\Local\\Temp\\ipykernel_14700\\3253753170.py:2: UserWarning: To copy construct from a tensor, it is recommended to use sourceTensor.clone().detach() or sourceTensor.clone().detach().requires_grad_(True), rather than torch.tensor(sourceTensor).\n",
      "  predicted_tensor = torch.tensor(predicted)  # Точно так же для predicted\n"
     ]
    }
   ],
   "source": [
    "probs_tensor = torch.tensor(probs)  # Предполагается, что probs уже в формате NumPy или списка\n",
    "predicted_tensor = torch.tensor(predicted)  # Точно так же для predicted"
   ]
  },
  {
   "cell_type": "code",
   "execution_count": 44,
   "metadata": {},
   "outputs": [],
   "source": [
    "# Приводим к одинаковому количеству примеров (если необходимо)\n",
    "min_samples = min(probs_tensor.shape[0], predicted_tensor.shape[0])\n",
    "\n",
    "# Обрезаем тензоры до одинакового числа примеров\n",
    "probs_tensor = probs_tensor[:min_samples]\n",
    "predicted_tensor = predicted_tensor[:min_samples]"
   ]
  },
  {
   "cell_type": "code",
   "execution_count": 45,
   "metadata": {},
   "outputs": [
    {
     "name": "stdout",
     "output_type": "stream",
     "text": [
      "Размер probs_tensor: torch.Size([211, 3])\n",
      "Размер predicted_tensor: torch.Size([211, 2])\n"
     ]
    }
   ],
   "source": [
    "print(\"Размер probs_tensor:\", probs_tensor.shape)\n",
    "print(\"Размер predicted_tensor:\", predicted_tensor.shape)"
   ]
  },
  {
   "cell_type": "code",
   "execution_count": 46,
   "metadata": {},
   "outputs": [],
   "source": [
    "ensemble_inputs = torch.cat((probs_tensor, predicted_tensor), dim=-1)"
   ]
  },
  {
   "cell_type": "code",
   "execution_count": 47,
   "metadata": {},
   "outputs": [
    {
     "name": "stdout",
     "output_type": "stream",
     "text": [
      "Прогноз ансамбля: [2 0 2 1 0 2 2 0 2 0 2 1 2 0 2 0 2 2 0 0 2 2 0 2 0 2 0 2 1 0 2 1 2 2 0 2 2\n",
      " 0 2 2 2 2 1 0 1 2 1 2 0 0 2 2 2 0 2 2 0 2 0 2 2 1 2 0 2 2 2 2 0 2 0 2 0 2\n",
      " 0 0 2 0 2 2 2 0 0 2 0 2 0 2 2 2 0 0 2 1 2 0 2 1 2 0 2 0 2 0 2 0 0 2 2 2 0\n",
      " 0 2 2 0 0 2 0 0 2 0 2 2 2 2 2 2 2 0 2 2 1 2 2 0 2 2 2 0 2 2 0 2 0 2 0 1 0\n",
      " 2 0 2 1 2 0 2 2 0 1 2 2 0 2 0 0 2 0 0 1 0 2 1 0 2 2 0 2 2 0 2 0 2 0 0 1 0\n",
      " 2 0 0 1 1 1 0 0 2 2 2 0 1 0 2 2 1 2 1 1 0 2 0 2 2 2]\n"
     ]
    }
   ],
   "source": [
    "from sklearn.ensemble import GradientBoostingClassifier\n",
    "\n",
    "# Метки классов\n",
    "# Добавляем недостающую метку\n",
    "labels = [0, 1] * (X.shape[0] // 2)  # если X имеет четную длину\n",
    "if len(labels) < X.shape[0]:\n",
    "    labels.append(0)  # добавляем недостающую метку\n",
    "\n",
    "# Преобразование данных для sklearn\n",
    "X = ensemble_inputs.detach().numpy()\n",
    "#y = labels \n",
    "\n",
    "# Если размерности не совпадают, приводим y к нужной размерности\n",
    "if X.shape[0] != y.shape[0]:\n",
    "    if len(y) < len(X):\n",
    "        # Если y меньше, чем X, дублируем значения\n",
    "        y = np.tile(y, (len(X) // len(y)) + 1)[:len(X)]\n",
    "    elif len(y) > len(X):\n",
    "        # Если y больше, чем X, обрезаем до нужного размера\n",
    "        y = y[:len(X)]\n",
    "\n",
    "# Обучение мета-модели с использованием градиентного бустинга\n",
    "meta_model = GradientBoostingClassifier()\n",
    "meta_model.fit(X, y)\n",
    "\n",
    "# Прогноз\n",
    "ensemble_prediction = meta_model.predict(X)\n",
    "print(\"Прогноз ансамбля:\", ensemble_prediction)"
   ]
  },
  {
   "cell_type": "code",
   "execution_count": 48,
   "metadata": {},
   "outputs": [
    {
     "name": "stdout",
     "output_type": "stream",
     "text": [
      "Accuracy ансамбля: 0.990521327014218\n"
     ]
    }
   ],
   "source": [
    "from sklearn.metrics import accuracy_score\n",
    "\n",
    "# Прогнозы ансамбля\n",
    "ensemble_prediction = meta_model.predict(X)\n",
    "\n",
    "# Рассчитываем точность (accuracy)\n",
    "accuracy_ensemble = accuracy_score(y, ensemble_prediction)\n",
    "\n",
    "# Выводим значение точности\n",
    "print(\"Accuracy ансамбля:\", accuracy_ensemble)"
   ]
  }
 ],
 "metadata": {
  "kaggle": {
   "accelerator": "none",
   "dataSources": [
    {
     "datasetId": 6355085,
     "sourceId": 10271296,
     "sourceType": "datasetVersion"
    }
   ],
   "dockerImageVersionId": 30822,
   "isGpuEnabled": false,
   "isInternetEnabled": true,
   "language": "python",
   "sourceType": "notebook"
  },
  "kernelspec": {
   "display_name": "Python 3",
   "language": "python",
   "name": "python3"
  },
  "language_info": {
   "codemirror_mode": {
    "name": "ipython",
    "version": 3
   },
   "file_extension": ".py",
   "mimetype": "text/x-python",
   "name": "python",
   "nbconvert_exporter": "python",
   "pygments_lexer": "ipython3",
   "version": "3.12.1"
  }
 },
 "nbformat": 4,
 "nbformat_minor": 4
}
